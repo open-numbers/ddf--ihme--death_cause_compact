{
 "cells": [
  {
   "cell_type": "code",
   "execution_count": 1,
   "metadata": {},
   "outputs": [],
   "source": [
    "import os\n",
    "import os.path as osp\n",
    "import pandas as pd\n",
    "\n",
    "from ddf_utils.str import to_concept_id, format_float_digits\n",
    "from ddf_utils.factory import ihme"
   ]
  },
  {
   "cell_type": "code",
   "execution_count": 2,
   "metadata": {},
   "outputs": [],
   "source": [
    "import dask.dataframe as dd"
   ]
  },
  {
   "cell_type": "code",
   "execution_count": 3,
   "metadata": {},
   "outputs": [],
   "source": [
    "from zipfile import ZipFile"
   ]
  },
  {
   "cell_type": "markdown",
   "metadata": {},
   "source": [
    "# TODOs\n",
    "\n",
    "- fix float format"
   ]
  },
  {
   "cell_type": "code",
   "execution_count": 4,
   "metadata": {},
   "outputs": [],
   "source": [
    "# metadata\n",
    "md = ihme.load_metadata()"
   ]
  },
  {
   "cell_type": "code",
   "execution_count": 5,
   "metadata": {},
   "outputs": [
    {
     "data": {
      "text/plain": [
       "dict_keys(['age', 'cause', 'groups', 'location', 'measure', 'metric', 'rei', 'sequela', 'sex', 'year', 'year_range', 'version'])"
      ]
     },
     "execution_count": 5,
     "metadata": {},
     "output_type": "execute_result"
    }
   ],
   "source": [
    "md.keys()"
   ]
  },
  {
   "cell_type": "code",
   "execution_count": 5,
   "metadata": {},
   "outputs": [
    {
     "data": {
      "text/html": [
       "<div>\n",
       "<style scoped>\n",
       "    .dataframe tbody tr th:only-of-type {\n",
       "        vertical-align: middle;\n",
       "    }\n",
       "\n",
       "    .dataframe tbody tr th {\n",
       "        vertical-align: top;\n",
       "    }\n",
       "\n",
       "    .dataframe thead th {\n",
       "        text-align: right;\n",
       "    }\n",
       "</style>\n",
       "<table border=\"1\" class=\"dataframe\">\n",
       "  <thead>\n",
       "    <tr style=\"text-align: right;\">\n",
       "      <th></th>\n",
       "      <th>metric_id</th>\n",
       "      <th>name</th>\n",
       "      <th>short_name</th>\n",
       "    </tr>\n",
       "  </thead>\n",
       "  <tbody>\n",
       "    <tr>\n",
       "      <th>1</th>\n",
       "      <td>1</td>\n",
       "      <td>Number</td>\n",
       "      <td>#</td>\n",
       "    </tr>\n",
       "    <tr>\n",
       "      <th>2</th>\n",
       "      <td>2</td>\n",
       "      <td>Percent</td>\n",
       "      <td>%</td>\n",
       "    </tr>\n",
       "    <tr>\n",
       "      <th>3</th>\n",
       "      <td>3</td>\n",
       "      <td>Rate</td>\n",
       "      <td>Rate</td>\n",
       "    </tr>\n",
       "    <tr>\n",
       "      <th>5</th>\n",
       "      <td>5</td>\n",
       "      <td>Years</td>\n",
       "      <td>Years</td>\n",
       "    </tr>\n",
       "    <tr>\n",
       "      <th>8</th>\n",
       "      <td>8</td>\n",
       "      <td>Probability of death</td>\n",
       "      <td>Probability of death</td>\n",
       "    </tr>\n",
       "    <tr>\n",
       "      <th>9</th>\n",
       "      <td>9</td>\n",
       "      <td>Index score</td>\n",
       "      <td>index score</td>\n",
       "    </tr>\n",
       "  </tbody>\n",
       "</table>\n",
       "</div>"
      ],
      "text/plain": [
       "   metric_id                  name            short_name\n",
       "1          1                Number                     #\n",
       "2          2               Percent                     %\n",
       "3          3                  Rate                  Rate\n",
       "5          5                 Years                 Years\n",
       "8          8  Probability of death  Probability of death\n",
       "9          9           Index score           index score"
      ]
     },
     "execution_count": 5,
     "metadata": {},
     "output_type": "execute_result"
    }
   ],
   "source": [
    "md['metric']"
   ]
  },
  {
   "cell_type": "code",
   "execution_count": 6,
   "metadata": {},
   "outputs": [
    {
     "data": {
      "text/html": [
       "<div>\n",
       "<style scoped>\n",
       "    .dataframe tbody tr th:only-of-type {\n",
       "        vertical-align: middle;\n",
       "    }\n",
       "\n",
       "    .dataframe tbody tr th {\n",
       "        vertical-align: top;\n",
       "    }\n",
       "\n",
       "    .dataframe thead th {\n",
       "        text-align: right;\n",
       "    }\n",
       "</style>\n",
       "<table border=\"1\" class=\"dataframe\">\n",
       "  <thead>\n",
       "    <tr style=\"text-align: right;\">\n",
       "      <th></th>\n",
       "      <th>measure_id</th>\n",
       "      <th>sort</th>\n",
       "      <th>name</th>\n",
       "      <th>short_name</th>\n",
       "    </tr>\n",
       "  </thead>\n",
       "  <tbody>\n",
       "    <tr>\n",
       "      <th>1</th>\n",
       "      <td>1</td>\n",
       "      <td>1</td>\n",
       "      <td>Deaths</td>\n",
       "      <td>Deaths</td>\n",
       "    </tr>\n",
       "    <tr>\n",
       "      <th>2</th>\n",
       "      <td>2</td>\n",
       "      <td>4</td>\n",
       "      <td>DALYs (Disability-Adjusted Life Years)</td>\n",
       "      <td>DALYs</td>\n",
       "    </tr>\n",
       "    <tr>\n",
       "      <th>25</th>\n",
       "      <td>25</td>\n",
       "      <td>26</td>\n",
       "      <td>Maternal mortality ratio</td>\n",
       "      <td>MMR</td>\n",
       "    </tr>\n",
       "    <tr>\n",
       "      <th>26</th>\n",
       "      <td>26</td>\n",
       "      <td>28</td>\n",
       "      <td>Life expectancy</td>\n",
       "      <td>LE</td>\n",
       "    </tr>\n",
       "    <tr>\n",
       "      <th>27</th>\n",
       "      <td>27</td>\n",
       "      <td>27</td>\n",
       "      <td>Probability of death</td>\n",
       "      <td>PoD</td>\n",
       "    </tr>\n",
       "    <tr>\n",
       "      <th>28</th>\n",
       "      <td>28</td>\n",
       "      <td>29</td>\n",
       "      <td>HALE (Healthy life expectancy)</td>\n",
       "      <td>HALE</td>\n",
       "    </tr>\n",
       "    <tr>\n",
       "      <th>29</th>\n",
       "      <td>29</td>\n",
       "      <td>21</td>\n",
       "      <td>Summary exposure value</td>\n",
       "      <td>SEV</td>\n",
       "    </tr>\n",
       "    <tr>\n",
       "      <th>3</th>\n",
       "      <td>3</td>\n",
       "      <td>3</td>\n",
       "      <td>YLDs (Years Lived with Disability)</td>\n",
       "      <td>YLDs</td>\n",
       "    </tr>\n",
       "    <tr>\n",
       "      <th>4</th>\n",
       "      <td>4</td>\n",
       "      <td>2</td>\n",
       "      <td>YLLs (Years of Life Lost)</td>\n",
       "      <td>YLLs</td>\n",
       "    </tr>\n",
       "    <tr>\n",
       "      <th>43</th>\n",
       "      <td>43</td>\n",
       "      <td>43</td>\n",
       "      <td>HAQ Index (Healthcare Access and Quality Index)</td>\n",
       "      <td>haq_index</td>\n",
       "    </tr>\n",
       "    <tr>\n",
       "      <th>5</th>\n",
       "      <td>5</td>\n",
       "      <td>5</td>\n",
       "      <td>Prevalence</td>\n",
       "      <td>Prevalence</td>\n",
       "    </tr>\n",
       "    <tr>\n",
       "      <th>6</th>\n",
       "      <td>6</td>\n",
       "      <td>6</td>\n",
       "      <td>Incidence</td>\n",
       "      <td>Incidence</td>\n",
       "    </tr>\n",
       "  </tbody>\n",
       "</table>\n",
       "</div>"
      ],
      "text/plain": [
       "    measure_id  sort                                             name  \\\n",
       "1            1     1                                           Deaths   \n",
       "2            2     4           DALYs (Disability-Adjusted Life Years)   \n",
       "25          25    26                         Maternal mortality ratio   \n",
       "26          26    28                                  Life expectancy   \n",
       "27          27    27                             Probability of death   \n",
       "28          28    29                   HALE (Healthy life expectancy)   \n",
       "29          29    21                           Summary exposure value   \n",
       "3            3     3               YLDs (Years Lived with Disability)   \n",
       "4            4     2                        YLLs (Years of Life Lost)   \n",
       "43          43    43  HAQ Index (Healthcare Access and Quality Index)   \n",
       "5            5     5                                       Prevalence   \n",
       "6            6     6                                        Incidence   \n",
       "\n",
       "    short_name  \n",
       "1       Deaths  \n",
       "2        DALYs  \n",
       "25         MMR  \n",
       "26          LE  \n",
       "27         PoD  \n",
       "28        HALE  \n",
       "29         SEV  \n",
       "3         YLDs  \n",
       "4         YLLs  \n",
       "43   haq_index  \n",
       "5   Prevalence  \n",
       "6    Incidence  "
      ]
     },
     "execution_count": 6,
     "metadata": {},
     "output_type": "execute_result"
    }
   ],
   "source": [
    "md['measure']"
   ]
  },
  {
   "cell_type": "code",
   "execution_count": 7,
   "metadata": {},
   "outputs": [
    {
     "data": {
      "text/html": [
       "<div>\n",
       "<style scoped>\n",
       "    .dataframe tbody tr th:only-of-type {\n",
       "        vertical-align: middle;\n",
       "    }\n",
       "\n",
       "    .dataframe tbody tr th {\n",
       "        vertical-align: top;\n",
       "    }\n",
       "\n",
       "    .dataframe thead th {\n",
       "        text-align: right;\n",
       "    }\n",
       "</style>\n",
       "<table border=\"1\" class=\"dataframe\">\n",
       "  <thead>\n",
       "    <tr style=\"text-align: right;\">\n",
       "      <th></th>\n",
       "      <th>rei_id</th>\n",
       "      <th>type</th>\n",
       "      <th>name</th>\n",
       "      <th>short_name</th>\n",
       "      <th>enabled</th>\n",
       "    </tr>\n",
       "  </thead>\n",
       "  <tbody>\n",
       "    <tr>\n",
       "      <th>100</th>\n",
       "      <td>100</td>\n",
       "      <td>risk</td>\n",
       "      <td>Secondhand smoke</td>\n",
       "      <td>Secondhand smoke</td>\n",
       "      <td>1</td>\n",
       "    </tr>\n",
       "    <tr>\n",
       "      <th>101</th>\n",
       "      <td>101</td>\n",
       "      <td>risk</td>\n",
       "      <td>Alcohol and drug use</td>\n",
       "      <td>Alcohol &amp; drug use</td>\n",
       "      <td>0</td>\n",
       "    </tr>\n",
       "    <tr>\n",
       "      <th>102</th>\n",
       "      <td>102</td>\n",
       "      <td>risk</td>\n",
       "      <td>Alcohol use</td>\n",
       "      <td>Alcohol use</td>\n",
       "      <td>1</td>\n",
       "    </tr>\n",
       "    <tr>\n",
       "      <th>103</th>\n",
       "      <td>103</td>\n",
       "      <td>risk</td>\n",
       "      <td>Drug use</td>\n",
       "      <td>Drug use</td>\n",
       "      <td>1</td>\n",
       "    </tr>\n",
       "    <tr>\n",
       "      <th>104</th>\n",
       "      <td>104</td>\n",
       "      <td>risk</td>\n",
       "      <td>Metabolic risks</td>\n",
       "      <td>Metabolic</td>\n",
       "      <td>0</td>\n",
       "    </tr>\n",
       "  </tbody>\n",
       "</table>\n",
       "</div>"
      ],
      "text/plain": [
       "     rei_id  type                  name          short_name  enabled\n",
       "100     100  risk      Secondhand smoke    Secondhand smoke        1\n",
       "101     101  risk  Alcohol and drug use  Alcohol & drug use        0\n",
       "102     102  risk           Alcohol use         Alcohol use        1\n",
       "103     103  risk              Drug use            Drug use        1\n",
       "104     104  risk       Metabolic risks           Metabolic        0"
      ]
     },
     "execution_count": 7,
     "metadata": {},
     "output_type": "execute_result"
    }
   ],
   "source": [
    "md['rei'].head()"
   ]
  },
  {
   "cell_type": "code",
   "execution_count": 4,
   "metadata": {},
   "outputs": [],
   "source": [
    "source_dir = '../source/cause/deathAndIncidence/'"
   ]
  },
  {
   "cell_type": "code",
   "execution_count": 5,
   "metadata": {
    "scrolled": true
   },
   "outputs": [
    {
     "data": {
      "text/plain": [
       "['.DS_Store',\n",
       " 'IHME-GBD_2016_DATA-00fe3d4a-1.zip',\n",
       " 'IHME-GBD_2016_DATA-00fe3d4a-10.zip',\n",
       " 'IHME-GBD_2016_DATA-00fe3d4a-11.zip',\n",
       " 'IHME-GBD_2016_DATA-00fe3d4a-12.zip',\n",
       " 'IHME-GBD_2016_DATA-00fe3d4a-13.zip',\n",
       " 'IHME-GBD_2016_DATA-00fe3d4a-14.zip',\n",
       " 'IHME-GBD_2016_DATA-00fe3d4a-15.zip',\n",
       " 'IHME-GBD_2016_DATA-00fe3d4a-16.zip',\n",
       " 'IHME-GBD_2016_DATA-00fe3d4a-17.zip',\n",
       " 'IHME-GBD_2016_DATA-00fe3d4a-18.zip',\n",
       " 'IHME-GBD_2016_DATA-00fe3d4a-19.zip',\n",
       " 'IHME-GBD_2016_DATA-00fe3d4a-2.zip',\n",
       " 'IHME-GBD_2016_DATA-00fe3d4a-20.zip',\n",
       " 'IHME-GBD_2016_DATA-00fe3d4a-21.zip',\n",
       " 'IHME-GBD_2016_DATA-00fe3d4a-22.zip',\n",
       " 'IHME-GBD_2016_DATA-00fe3d4a-23.zip',\n",
       " 'IHME-GBD_2016_DATA-00fe3d4a-24.zip',\n",
       " 'IHME-GBD_2016_DATA-00fe3d4a-25.zip',\n",
       " 'IHME-GBD_2016_DATA-00fe3d4a-26.zip',\n",
       " 'IHME-GBD_2016_DATA-00fe3d4a-27.zip',\n",
       " 'IHME-GBD_2016_DATA-00fe3d4a-28.zip',\n",
       " 'IHME-GBD_2016_DATA-00fe3d4a-29.zip',\n",
       " 'IHME-GBD_2016_DATA-00fe3d4a-3.zip',\n",
       " 'IHME-GBD_2016_DATA-00fe3d4a-30.zip',\n",
       " 'IHME-GBD_2016_DATA-00fe3d4a-31.zip',\n",
       " 'IHME-GBD_2016_DATA-00fe3d4a-4.zip',\n",
       " 'IHME-GBD_2016_DATA-00fe3d4a-5.zip',\n",
       " 'IHME-GBD_2016_DATA-00fe3d4a-6.zip',\n",
       " 'IHME-GBD_2016_DATA-00fe3d4a-7.zip',\n",
       " 'IHME-GBD_2016_DATA-00fe3d4a-8.zip',\n",
       " 'IHME-GBD_2016_DATA-00fe3d4a-9.zip']"
      ]
     },
     "execution_count": 5,
     "metadata": {},
     "output_type": "execute_result"
    }
   ],
   "source": [
    "sorted(os.listdir(source_dir))"
   ]
  },
  {
   "cell_type": "code",
   "execution_count": 17,
   "metadata": {},
   "outputs": [],
   "source": [
    "n = 'IHME-GBD_2016_DATA-93b0f1b4-15.zip'\n",
    "f = osp.join(source_dir, n)"
   ]
  },
  {
   "cell_type": "code",
   "execution_count": 18,
   "metadata": {},
   "outputs": [],
   "source": [
    "zf = ZipFile(f)"
   ]
  },
  {
   "cell_type": "code",
   "execution_count": 19,
   "metadata": {},
   "outputs": [],
   "source": [
    "fname = osp.splitext(n)[0]"
   ]
  },
  {
   "cell_type": "code",
   "execution_count": 20,
   "metadata": {},
   "outputs": [
    {
     "data": {
      "text/plain": [
       "'IHME-GBD_2016_DATA-93b0f1b4-15.csv'"
      ]
     },
     "execution_count": 20,
     "metadata": {},
     "output_type": "execute_result"
    }
   ],
   "source": [
    "fname + '.csv'"
   ]
  },
  {
   "cell_type": "code",
   "execution_count": 21,
   "metadata": {},
   "outputs": [],
   "source": [
    "data = pd.read_csv(zf.open(fname + '.csv'))"
   ]
  },
  {
   "cell_type": "code",
   "execution_count": 22,
   "metadata": {},
   "outputs": [
    {
     "data": {
      "text/html": [
       "<div>\n",
       "<style scoped>\n",
       "    .dataframe tbody tr th:only-of-type {\n",
       "        vertical-align: middle;\n",
       "    }\n",
       "\n",
       "    .dataframe tbody tr th {\n",
       "        vertical-align: top;\n",
       "    }\n",
       "\n",
       "    .dataframe thead th {\n",
       "        text-align: right;\n",
       "    }\n",
       "</style>\n",
       "<table border=\"1\" class=\"dataframe\">\n",
       "  <thead>\n",
       "    <tr style=\"text-align: right;\">\n",
       "      <th></th>\n",
       "      <th>measure</th>\n",
       "      <th>location</th>\n",
       "      <th>sex</th>\n",
       "      <th>age</th>\n",
       "      <th>cause</th>\n",
       "      <th>metric</th>\n",
       "      <th>year</th>\n",
       "      <th>val</th>\n",
       "      <th>upper</th>\n",
       "      <th>lower</th>\n",
       "    </tr>\n",
       "  </thead>\n",
       "  <tbody>\n",
       "    <tr>\n",
       "      <th>0</th>\n",
       "      <td>2</td>\n",
       "      <td>4670</td>\n",
       "      <td>1</td>\n",
       "      <td>8</td>\n",
       "      <td>713</td>\n",
       "      <td>1</td>\n",
       "      <td>1990</td>\n",
       "      <td>196.065831</td>\n",
       "      <td>267.012417</td>\n",
       "      <td>142.022315</td>\n",
       "    </tr>\n",
       "    <tr>\n",
       "      <th>1</th>\n",
       "      <td>2</td>\n",
       "      <td>4670</td>\n",
       "      <td>2</td>\n",
       "      <td>8</td>\n",
       "      <td>713</td>\n",
       "      <td>1</td>\n",
       "      <td>1990</td>\n",
       "      <td>90.391765</td>\n",
       "      <td>120.094655</td>\n",
       "      <td>66.695699</td>\n",
       "    </tr>\n",
       "    <tr>\n",
       "      <th>2</th>\n",
       "      <td>2</td>\n",
       "      <td>4670</td>\n",
       "      <td>3</td>\n",
       "      <td>8</td>\n",
       "      <td>713</td>\n",
       "      <td>1</td>\n",
       "      <td>1990</td>\n",
       "      <td>286.457596</td>\n",
       "      <td>362.406080</td>\n",
       "      <td>221.947945</td>\n",
       "    </tr>\n",
       "    <tr>\n",
       "      <th>3</th>\n",
       "      <td>2</td>\n",
       "      <td>4670</td>\n",
       "      <td>1</td>\n",
       "      <td>8</td>\n",
       "      <td>713</td>\n",
       "      <td>2</td>\n",
       "      <td>1990</td>\n",
       "      <td>0.008221</td>\n",
       "      <td>0.011174</td>\n",
       "      <td>0.006050</td>\n",
       "    </tr>\n",
       "    <tr>\n",
       "      <th>4</th>\n",
       "      <td>2</td>\n",
       "      <td>4670</td>\n",
       "      <td>2</td>\n",
       "      <td>8</td>\n",
       "      <td>713</td>\n",
       "      <td>2</td>\n",
       "      <td>1990</td>\n",
       "      <td>0.005668</td>\n",
       "      <td>0.007294</td>\n",
       "      <td>0.004329</td>\n",
       "    </tr>\n",
       "  </tbody>\n",
       "</table>\n",
       "</div>"
      ],
      "text/plain": [
       "   measure  location  sex  age  cause  metric  year         val       upper  \\\n",
       "0        2      4670    1    8    713       1  1990  196.065831  267.012417   \n",
       "1        2      4670    2    8    713       1  1990   90.391765  120.094655   \n",
       "2        2      4670    3    8    713       1  1990  286.457596  362.406080   \n",
       "3        2      4670    1    8    713       2  1990    0.008221    0.011174   \n",
       "4        2      4670    2    8    713       2  1990    0.005668    0.007294   \n",
       "\n",
       "        lower  \n",
       "0  142.022315  \n",
       "1   66.695699  \n",
       "2  221.947945  \n",
       "3    0.006050  \n",
       "4    0.004329  "
      ]
     },
     "execution_count": 22,
     "metadata": {},
     "output_type": "execute_result"
    }
   ],
   "source": [
    "data.head()"
   ]
  },
  {
   "cell_type": "code",
   "execution_count": null,
   "metadata": {},
   "outputs": [],
   "source": []
  },
  {
   "cell_type": "code",
   "execution_count": 23,
   "metadata": {},
   "outputs": [
    {
     "data": {
      "text/plain": [
       "(1000000, 10)"
      ]
     },
     "execution_count": 23,
     "metadata": {},
     "output_type": "execute_result"
    }
   ],
   "source": [
    "data.shape"
   ]
  },
  {
   "cell_type": "code",
   "execution_count": 24,
   "metadata": {},
   "outputs": [
    {
     "data": {
      "text/plain": [
       "76.29402160644531"
      ]
     },
     "execution_count": 24,
     "metadata": {},
     "output_type": "execute_result"
    }
   ],
   "source": [
    "data.memory_usage().sum() / 1024 / 1024"
   ]
  },
  {
   "cell_type": "code",
   "execution_count": 25,
   "metadata": {},
   "outputs": [
    {
     "data": {
      "text/plain": [
       "2432"
      ]
     },
     "execution_count": 25,
     "metadata": {},
     "output_type": "execute_result"
    }
   ],
   "source": [
    "76 * 32"
   ]
  },
  {
   "cell_type": "code",
   "execution_count": null,
   "metadata": {},
   "outputs": [],
   "source": []
  },
  {
   "cell_type": "code",
   "execution_count": 6,
   "metadata": {},
   "outputs": [
    {
     "name": "stdout",
     "output_type": "stream",
     "text": [
      ".DS_Store\n",
      "IHME-GBD_2016_DATA-00fe3d4a-5.zip\n",
      "IHME-GBD_2016_DATA-00fe3d4a-17.zip\n",
      "IHME-GBD_2016_DATA-00fe3d4a-16.zip\n",
      "IHME-GBD_2016_DATA-00fe3d4a-4.zip\n",
      "IHME-GBD_2016_DATA-00fe3d4a-6.zip\n",
      "IHME-GBD_2016_DATA-00fe3d4a-14.zip\n",
      "IHME-GBD_2016_DATA-00fe3d4a-28.zip\n",
      "IHME-GBD_2016_DATA-00fe3d4a-29.zip\n",
      "IHME-GBD_2016_DATA-00fe3d4a-15.zip\n",
      "IHME-GBD_2016_DATA-00fe3d4a-7.zip\n",
      "IHME-GBD_2016_DATA-00fe3d4a-3.zip\n",
      "IHME-GBD_2016_DATA-00fe3d4a-11.zip\n",
      "IHME-GBD_2016_DATA-00fe3d4a-10.zip\n",
      "IHME-GBD_2016_DATA-00fe3d4a-2.zip\n",
      "IHME-GBD_2016_DATA-00fe3d4a-12.zip\n",
      "IHME-GBD_2016_DATA-00fe3d4a-13.zip\n",
      "IHME-GBD_2016_DATA-00fe3d4a-1.zip\n",
      "IHME-GBD_2016_DATA-00fe3d4a-22.zip\n",
      "IHME-GBD_2016_DATA-00fe3d4a-23.zip\n",
      "IHME-GBD_2016_DATA-00fe3d4a-21.zip\n",
      "IHME-GBD_2016_DATA-00fe3d4a-20.zip\n",
      "IHME-GBD_2016_DATA-00fe3d4a-18.zip\n",
      "IHME-GBD_2016_DATA-00fe3d4a-30.zip\n",
      "IHME-GBD_2016_DATA-00fe3d4a-24.zip\n",
      "IHME-GBD_2016_DATA-00fe3d4a-25.zip\n",
      "IHME-GBD_2016_DATA-00fe3d4a-31.zip\n",
      "IHME-GBD_2016_DATA-00fe3d4a-19.zip\n",
      "IHME-GBD_2016_DATA-00fe3d4a-9.zip\n",
      "IHME-GBD_2016_DATA-00fe3d4a-27.zip\n",
      "IHME-GBD_2016_DATA-00fe3d4a-26.zip\n",
      "IHME-GBD_2016_DATA-00fe3d4a-8.zip\n"
     ]
    }
   ],
   "source": [
    "all_data = []\n",
    "for n in os.listdir(source_dir):\n",
    "    print(n)\n",
    "    if not n.endswith('.zip'):\n",
    "        continue\n",
    "    f = osp.join(source_dir, n)\n",
    "    zf = ZipFile(f)\n",
    "    fname = osp.splitext(n)[0] + '.csv'\n",
    "    data = pd.read_csv(zf.open(fname))\n",
    "    data = data.drop(['upper', 'lower'], axis=1)\n",
    "    all_data.append(data)"
   ]
  },
  {
   "cell_type": "code",
   "execution_count": 7,
   "metadata": {},
   "outputs": [],
   "source": [
    "data_full = all_data.pop()"
   ]
  },
  {
   "cell_type": "code",
   "execution_count": 8,
   "metadata": {},
   "outputs": [
    {
     "ename": "KeyboardInterrupt",
     "evalue": "",
     "output_type": "error",
     "traceback": [
      "\u001b[0;31m---------------------------------------------------------------------------\u001b[0m",
      "\u001b[0;31mKeyboardInterrupt\u001b[0m                         Traceback (most recent call last)",
      "\u001b[0;32m<ipython-input-8-94fa3f07c9c7>\u001b[0m in \u001b[0;36m<module>\u001b[0;34m()\u001b[0m\n\u001b[1;32m      1\u001b[0m \u001b[0ml\u001b[0m \u001b[0;34m=\u001b[0m \u001b[0mlen\u001b[0m\u001b[0;34m(\u001b[0m\u001b[0mall_data\u001b[0m\u001b[0;34m)\u001b[0m\u001b[0;34m\u001b[0m\u001b[0m\n\u001b[1;32m      2\u001b[0m \u001b[0;32mfor\u001b[0m \u001b[0m_\u001b[0m \u001b[0;32min\u001b[0m \u001b[0mrange\u001b[0m\u001b[0;34m(\u001b[0m\u001b[0ml\u001b[0m\u001b[0;34m)\u001b[0m\u001b[0;34m:\u001b[0m\u001b[0;34m\u001b[0m\u001b[0m\n\u001b[0;32m----> 3\u001b[0;31m     \u001b[0mdata_full\u001b[0m \u001b[0;34m=\u001b[0m \u001b[0mdata_full\u001b[0m\u001b[0;34m.\u001b[0m\u001b[0mappend\u001b[0m\u001b[0;34m(\u001b[0m\u001b[0mall_data\u001b[0m\u001b[0;34m.\u001b[0m\u001b[0mpop\u001b[0m\u001b[0;34m(\u001b[0m\u001b[0;34m)\u001b[0m\u001b[0;34m,\u001b[0m \u001b[0mignore_index\u001b[0m\u001b[0;34m=\u001b[0m\u001b[0;32mTrue\u001b[0m\u001b[0;34m)\u001b[0m\u001b[0;34m\u001b[0m\u001b[0m\n\u001b[0m\u001b[1;32m      4\u001b[0m     \u001b[0;31m# print(data_full.shape)\u001b[0m\u001b[0;34m\u001b[0m\u001b[0;34m\u001b[0m\u001b[0m\n",
      "\u001b[0;32m~/.pyenv/versions/3.6.5/Python.framework/Versions/3.6/lib/python3.6/site-packages/pandas/core/frame.py\u001b[0m in \u001b[0;36mappend\u001b[0;34m(self, other, ignore_index, verify_integrity, sort)\u001b[0m\n\u001b[1;32m   6209\u001b[0m         return concat(to_concat, ignore_index=ignore_index,\n\u001b[1;32m   6210\u001b[0m                       \u001b[0mverify_integrity\u001b[0m\u001b[0;34m=\u001b[0m\u001b[0mverify_integrity\u001b[0m\u001b[0;34m,\u001b[0m\u001b[0;34m\u001b[0m\u001b[0m\n\u001b[0;32m-> 6211\u001b[0;31m                       sort=sort)\n\u001b[0m\u001b[1;32m   6212\u001b[0m \u001b[0;34m\u001b[0m\u001b[0m\n\u001b[1;32m   6213\u001b[0m     def join(self, other, on=None, how='left', lsuffix='', rsuffix='',\n",
      "\u001b[0;32m~/.pyenv/versions/3.6.5/Python.framework/Versions/3.6/lib/python3.6/site-packages/pandas/core/reshape/concat.py\u001b[0m in \u001b[0;36mconcat\u001b[0;34m(objs, axis, join, join_axes, ignore_index, keys, levels, names, verify_integrity, sort, copy)\u001b[0m\n\u001b[1;32m    224\u001b[0m                        \u001b[0mverify_integrity\u001b[0m\u001b[0;34m=\u001b[0m\u001b[0mverify_integrity\u001b[0m\u001b[0;34m,\u001b[0m\u001b[0;34m\u001b[0m\u001b[0m\n\u001b[1;32m    225\u001b[0m                        copy=copy, sort=sort)\n\u001b[0;32m--> 226\u001b[0;31m     \u001b[0;32mreturn\u001b[0m \u001b[0mop\u001b[0m\u001b[0;34m.\u001b[0m\u001b[0mget_result\u001b[0m\u001b[0;34m(\u001b[0m\u001b[0;34m)\u001b[0m\u001b[0;34m\u001b[0m\u001b[0m\n\u001b[0m\u001b[1;32m    227\u001b[0m \u001b[0;34m\u001b[0m\u001b[0m\n\u001b[1;32m    228\u001b[0m \u001b[0;34m\u001b[0m\u001b[0m\n",
      "\u001b[0;32m~/.pyenv/versions/3.6.5/Python.framework/Versions/3.6/lib/python3.6/site-packages/pandas/core/reshape/concat.py\u001b[0m in \u001b[0;36mget_result\u001b[0;34m(self)\u001b[0m\n\u001b[1;32m    421\u001b[0m             new_data = concatenate_block_managers(\n\u001b[1;32m    422\u001b[0m                 \u001b[0mmgrs_indexers\u001b[0m\u001b[0;34m,\u001b[0m \u001b[0mself\u001b[0m\u001b[0;34m.\u001b[0m\u001b[0mnew_axes\u001b[0m\u001b[0;34m,\u001b[0m \u001b[0mconcat_axis\u001b[0m\u001b[0;34m=\u001b[0m\u001b[0mself\u001b[0m\u001b[0;34m.\u001b[0m\u001b[0maxis\u001b[0m\u001b[0;34m,\u001b[0m\u001b[0;34m\u001b[0m\u001b[0m\n\u001b[0;32m--> 423\u001b[0;31m                 copy=self.copy)\n\u001b[0m\u001b[1;32m    424\u001b[0m             \u001b[0;32mif\u001b[0m \u001b[0;32mnot\u001b[0m \u001b[0mself\u001b[0m\u001b[0;34m.\u001b[0m\u001b[0mcopy\u001b[0m\u001b[0;34m:\u001b[0m\u001b[0;34m\u001b[0m\u001b[0m\n\u001b[1;32m    425\u001b[0m                 \u001b[0mnew_data\u001b[0m\u001b[0;34m.\u001b[0m\u001b[0m_consolidate_inplace\u001b[0m\u001b[0;34m(\u001b[0m\u001b[0;34m)\u001b[0m\u001b[0;34m\u001b[0m\u001b[0m\n",
      "\u001b[0;32m~/.pyenv/versions/3.6.5/Python.framework/Versions/3.6/lib/python3.6/site-packages/pandas/core/internals.py\u001b[0m in \u001b[0;36mconcatenate_block_managers\u001b[0;34m(mgrs_indexers, axes, concat_axis, copy)\u001b[0m\n\u001b[1;32m   5416\u001b[0m         \u001b[0;32melif\u001b[0m \u001b[0mis_uniform_join_units\u001b[0m\u001b[0;34m(\u001b[0m\u001b[0mjoin_units\u001b[0m\u001b[0;34m)\u001b[0m\u001b[0;34m:\u001b[0m\u001b[0;34m\u001b[0m\u001b[0m\n\u001b[1;32m   5417\u001b[0m             b = join_units[0].block.concat_same_type(\n\u001b[0;32m-> 5418\u001b[0;31m                 [ju.block for ju in join_units], placement=placement)\n\u001b[0m\u001b[1;32m   5419\u001b[0m         \u001b[0;32melse\u001b[0m\u001b[0;34m:\u001b[0m\u001b[0;34m\u001b[0m\u001b[0m\n\u001b[1;32m   5420\u001b[0m             b = make_block(\n",
      "\u001b[0;32m~/.pyenv/versions/3.6.5/Python.framework/Versions/3.6/lib/python3.6/site-packages/pandas/core/internals.py\u001b[0m in \u001b[0;36mconcat_same_type\u001b[0;34m(self, to_concat, placement)\u001b[0m\n\u001b[1;32m    366\u001b[0m         \"\"\"\n\u001b[1;32m    367\u001b[0m         values = self._concatenator([blk.values for blk in to_concat],\n\u001b[0;32m--> 368\u001b[0;31m                                     axis=self.ndim - 1)\n\u001b[0m\u001b[1;32m    369\u001b[0m         return self.make_block_same_class(\n\u001b[1;32m    370\u001b[0m             values, placement=placement or slice(0, len(values), 1))\n",
      "\u001b[0;31mKeyboardInterrupt\u001b[0m: "
     ]
    }
   ],
   "source": [
    "l = len(all_data)\n",
    "for _ in range(l):\n",
    "    data_full = data_full.append(all_data.pop(), ignore_index=True)\n",
    "    # print(data_full.shape)"
   ]
  },
  {
   "cell_type": "code",
   "execution_count": 20,
   "metadata": {},
   "outputs": [
    {
     "data": {
      "text/plain": [
       "(36248813, 8)"
      ]
     },
     "execution_count": 20,
     "metadata": {},
     "output_type": "execute_result"
    }
   ],
   "source": [
    "data_full.shape"
   ]
  },
  {
   "cell_type": "code",
   "execution_count": 11,
   "metadata": {},
   "outputs": [],
   "source": [
    "del all_data"
   ]
  },
  {
   "cell_type": "code",
   "execution_count": 12,
   "metadata": {},
   "outputs": [],
   "source": [
    "all_data = None"
   ]
  },
  {
   "cell_type": "code",
   "execution_count": 13,
   "metadata": {},
   "outputs": [
    {
     "data": {
      "text/html": [
       "<div>\n",
       "<style scoped>\n",
       "    .dataframe tbody tr th:only-of-type {\n",
       "        vertical-align: middle;\n",
       "    }\n",
       "\n",
       "    .dataframe tbody tr th {\n",
       "        vertical-align: top;\n",
       "    }\n",
       "\n",
       "    .dataframe thead th {\n",
       "        text-align: right;\n",
       "    }\n",
       "</style>\n",
       "<table border=\"1\" class=\"dataframe\">\n",
       "  <thead>\n",
       "    <tr style=\"text-align: right;\">\n",
       "      <th></th>\n",
       "      <th>measure</th>\n",
       "      <th>location</th>\n",
       "      <th>sex</th>\n",
       "      <th>age</th>\n",
       "      <th>cause</th>\n",
       "      <th>metric</th>\n",
       "      <th>year</th>\n",
       "      <th>val</th>\n",
       "    </tr>\n",
       "  </thead>\n",
       "  <tbody>\n",
       "    <tr>\n",
       "      <th>4761786</th>\n",
       "      <td>6</td>\n",
       "      <td>7</td>\n",
       "      <td>2</td>\n",
       "      <td>24</td>\n",
       "      <td>300</td>\n",
       "      <td>2</td>\n",
       "      <td>1991</td>\n",
       "      <td>0.000001</td>\n",
       "    </tr>\n",
       "    <tr>\n",
       "      <th>8723022</th>\n",
       "      <td>4</td>\n",
       "      <td>181</td>\n",
       "      <td>2</td>\n",
       "      <td>19</td>\n",
       "      <td>390</td>\n",
       "      <td>3</td>\n",
       "      <td>1992</td>\n",
       "      <td>2.894290</td>\n",
       "    </tr>\n",
       "    <tr>\n",
       "      <th>7700258</th>\n",
       "      <td>2</td>\n",
       "      <td>573</td>\n",
       "      <td>3</td>\n",
       "      <td>31</td>\n",
       "      <td>704</td>\n",
       "      <td>3</td>\n",
       "      <td>1990</td>\n",
       "      <td>416.755904</td>\n",
       "    </tr>\n",
       "    <tr>\n",
       "      <th>3074087</th>\n",
       "      <td>6</td>\n",
       "      <td>35459</td>\n",
       "      <td>1</td>\n",
       "      <td>162</td>\n",
       "      <td>619</td>\n",
       "      <td>2</td>\n",
       "      <td>1990</td>\n",
       "      <td>0.000071</td>\n",
       "    </tr>\n",
       "    <tr>\n",
       "      <th>29343190</th>\n",
       "      <td>25</td>\n",
       "      <td>4651</td>\n",
       "      <td>2</td>\n",
       "      <td>14</td>\n",
       "      <td>366</td>\n",
       "      <td>3</td>\n",
       "      <td>2015</td>\n",
       "      <td>1276.613873</td>\n",
       "    </tr>\n",
       "    <tr>\n",
       "      <th>4391535</th>\n",
       "      <td>1</td>\n",
       "      <td>4772</td>\n",
       "      <td>2</td>\n",
       "      <td>3</td>\n",
       "      <td>344</td>\n",
       "      <td>1</td>\n",
       "      <td>1991</td>\n",
       "      <td>0.055526</td>\n",
       "    </tr>\n",
       "    <tr>\n",
       "      <th>10719196</th>\n",
       "      <td>1</td>\n",
       "      <td>167</td>\n",
       "      <td>2</td>\n",
       "      <td>19</td>\n",
       "      <td>300</td>\n",
       "      <td>1</td>\n",
       "      <td>1990</td>\n",
       "      <td>28.563954</td>\n",
       "    </tr>\n",
       "    <tr>\n",
       "      <th>34467093</th>\n",
       "      <td>5</td>\n",
       "      <td>35426</td>\n",
       "      <td>2</td>\n",
       "      <td>32</td>\n",
       "      <td>618</td>\n",
       "      <td>3</td>\n",
       "      <td>1990</td>\n",
       "      <td>813.211406</td>\n",
       "    </tr>\n",
       "    <tr>\n",
       "      <th>27000478</th>\n",
       "      <td>4</td>\n",
       "      <td>44590</td>\n",
       "      <td>1</td>\n",
       "      <td>9</td>\n",
       "      <td>512</td>\n",
       "      <td>1</td>\n",
       "      <td>1992</td>\n",
       "      <td>1167.916570</td>\n",
       "    </tr>\n",
       "    <tr>\n",
       "      <th>17605404</th>\n",
       "      <td>2</td>\n",
       "      <td>4749</td>\n",
       "      <td>2</td>\n",
       "      <td>235</td>\n",
       "      <td>419</td>\n",
       "      <td>3</td>\n",
       "      <td>1990</td>\n",
       "      <td>41.701780</td>\n",
       "    </tr>\n",
       "  </tbody>\n",
       "</table>\n",
       "</div>"
      ],
      "text/plain": [
       "          measure  location  sex  age  cause  metric  year          val\n",
       "4761786         6         7    2   24    300       2  1991     0.000001\n",
       "8723022         4       181    2   19    390       3  1992     2.894290\n",
       "7700258         2       573    3   31    704       3  1990   416.755904\n",
       "3074087         6     35459    1  162    619       2  1990     0.000071\n",
       "29343190       25      4651    2   14    366       3  2015  1276.613873\n",
       "4391535         1      4772    2    3    344       1  1991     0.055526\n",
       "10719196        1       167    2   19    300       1  1990    28.563954\n",
       "34467093        5     35426    2   32    618       3  1990   813.211406\n",
       "27000478        4     44590    1    9    512       1  1992  1167.916570\n",
       "17605404        2      4749    2  235    419       3  1990    41.701780"
      ]
     },
     "execution_count": 13,
     "metadata": {},
     "output_type": "execute_result"
    }
   ],
   "source": [
    "data_full.sample(10)"
   ]
  },
  {
   "cell_type": "code",
   "execution_count": 21,
   "metadata": {},
   "outputs": [
    {
     "data": {
      "text/plain": [
       "array([2, 3, 1])"
      ]
     },
     "execution_count": 21,
     "metadata": {},
     "output_type": "execute_result"
    }
   ],
   "source": [
    "data_full.metric.unique()"
   ]
  },
  {
   "cell_type": "code",
   "execution_count": 34,
   "metadata": {},
   "outputs": [
    {
     "data": {
      "text/plain": [
       "array([ 3,  5,  2,  4,  6,  1, 25])"
      ]
     },
     "execution_count": 34,
     "metadata": {},
     "output_type": "execute_result"
    }
   ],
   "source": [
    "data_full.measure.unique()"
   ]
  },
  {
   "cell_type": "code",
   "execution_count": 22,
   "metadata": {},
   "outputs": [],
   "source": [
    "groups = data_full.groupby(by=['measure', 'metric'])"
   ]
  },
  {
   "cell_type": "code",
   "execution_count": 6,
   "metadata": {},
   "outputs": [],
   "source": [
    "metric = md['metric'].copy()\n",
    "measure = md['measure'].copy()"
   ]
  },
  {
   "cell_type": "code",
   "execution_count": 7,
   "metadata": {},
   "outputs": [],
   "source": [
    "metric = metric.set_index('metric_id')['name'].to_dict()\n",
    "measure = measure.set_index('measure_id')['short_name'].to_dict()"
   ]
  },
  {
   "cell_type": "code",
   "execution_count": 31,
   "metadata": {},
   "outputs": [
    {
     "data": {
      "text/plain": [
       "{1: 'Deaths',\n",
       " 2: 'DALYs',\n",
       " 25: 'MMR',\n",
       " 26: 'LE',\n",
       " 27: 'PoD',\n",
       " 28: 'HALE',\n",
       " 29: 'SEV',\n",
       " 3: 'YLDs',\n",
       " 4: 'YLLs',\n",
       " 43: 'haq_index',\n",
       " 5: 'Prevalence',\n",
       " 6: 'Incidence'}"
      ]
     },
     "execution_count": 31,
     "metadata": {},
     "output_type": "execute_result"
    }
   ],
   "source": [
    "measure"
   ]
  },
  {
   "cell_type": "code",
   "execution_count": 43,
   "metadata": {},
   "outputs": [],
   "source": []
  },
  {
   "cell_type": "code",
   "execution_count": 25,
   "metadata": {},
   "outputs": [],
   "source": [
    "all_measures = []\n",
    "\n",
    "for g in groups.groups:\n",
    "    name  = measure[g[0]] + ' ' + metric[g[1]]\n",
    "    # print(name)\n",
    "    concept = to_concept_id(name)\n",
    "    all_measures.append([concept, name])\n",
    "    \n",
    "    df = groups.get_group(g)\n",
    "    df = df.rename(columns={'val': concept})\n",
    "    sex_groups = df.groupby(by='sex')  # split by sex\n",
    "    cols = ['location', 'sex', 'age', 'cause', 'year', concept]\n",
    "    # if concept == 'mmr_rate':\n",
    "    #     print(df.sex.unique())\n",
    "    for g_ in sex_groups.groups:\n",
    "        df_ = sex_groups.get_group(g_)\n",
    "        sex = 'sex-{}'.format(g_)\n",
    "        by = ['location', sex, 'age', 'cause', 'year']\n",
    "        file_name = 'ddf--datapoints--'+concept+'--by--'+'--'.join(by)+'.csv'\n",
    "        file_path = osp.join('../../', file_name)\n",
    "        df_[cols].to_csv(file_path, index=False)"
   ]
  },
  {
   "cell_type": "code",
   "execution_count": 26,
   "metadata": {},
   "outputs": [
    {
     "data": {
      "text/html": [
       "<div>\n",
       "<style scoped>\n",
       "    .dataframe tbody tr th:only-of-type {\n",
       "        vertical-align: middle;\n",
       "    }\n",
       "\n",
       "    .dataframe tbody tr th {\n",
       "        vertical-align: top;\n",
       "    }\n",
       "\n",
       "    .dataframe thead th {\n",
       "        text-align: right;\n",
       "    }\n",
       "</style>\n",
       "<table border=\"1\" class=\"dataframe\">\n",
       "  <thead>\n",
       "    <tr style=\"text-align: right;\">\n",
       "      <th></th>\n",
       "      <th>measure</th>\n",
       "      <th>location</th>\n",
       "      <th>sex</th>\n",
       "      <th>age</th>\n",
       "      <th>cause</th>\n",
       "      <th>metric</th>\n",
       "      <th>year</th>\n",
       "      <th>mmr_rate</th>\n",
       "    </tr>\n",
       "  </thead>\n",
       "  <tbody>\n",
       "    <tr>\n",
       "      <th>6464</th>\n",
       "      <td>25</td>\n",
       "      <td>548</td>\n",
       "      <td>2</td>\n",
       "      <td>8</td>\n",
       "      <td>376</td>\n",
       "      <td>3</td>\n",
       "      <td>1990</td>\n",
       "      <td>0.404898</td>\n",
       "    </tr>\n",
       "    <tr>\n",
       "      <th>6465</th>\n",
       "      <td>25</td>\n",
       "      <td>548</td>\n",
       "      <td>2</td>\n",
       "      <td>9</td>\n",
       "      <td>376</td>\n",
       "      <td>3</td>\n",
       "      <td>1990</td>\n",
       "      <td>0.474038</td>\n",
       "    </tr>\n",
       "    <tr>\n",
       "      <th>6466</th>\n",
       "      <td>25</td>\n",
       "      <td>548</td>\n",
       "      <td>2</td>\n",
       "      <td>10</td>\n",
       "      <td>376</td>\n",
       "      <td>3</td>\n",
       "      <td>1990</td>\n",
       "      <td>0.536445</td>\n",
       "    </tr>\n",
       "    <tr>\n",
       "      <th>6467</th>\n",
       "      <td>25</td>\n",
       "      <td>548</td>\n",
       "      <td>2</td>\n",
       "      <td>11</td>\n",
       "      <td>376</td>\n",
       "      <td>3</td>\n",
       "      <td>1990</td>\n",
       "      <td>0.928353</td>\n",
       "    </tr>\n",
       "    <tr>\n",
       "      <th>6468</th>\n",
       "      <td>25</td>\n",
       "      <td>548</td>\n",
       "      <td>2</td>\n",
       "      <td>12</td>\n",
       "      <td>376</td>\n",
       "      <td>3</td>\n",
       "      <td>1990</td>\n",
       "      <td>1.957516</td>\n",
       "    </tr>\n",
       "  </tbody>\n",
       "</table>\n",
       "</div>"
      ],
      "text/plain": [
       "      measure  location  sex  age  cause  metric  year  mmr_rate\n",
       "6464       25       548    2    8    376       3  1990  0.404898\n",
       "6465       25       548    2    9    376       3  1990  0.474038\n",
       "6466       25       548    2   10    376       3  1990  0.536445\n",
       "6467       25       548    2   11    376       3  1990  0.928353\n",
       "6468       25       548    2   12    376       3  1990  1.957516"
      ]
     },
     "execution_count": 26,
     "metadata": {},
     "output_type": "execute_result"
    }
   ],
   "source": [
    "df.head()"
   ]
  },
  {
   "cell_type": "code",
   "execution_count": 32,
   "metadata": {},
   "outputs": [
    {
     "data": {
      "text/plain": [
       "[['deaths_number', 'Deaths Number'],\n",
       " ['deaths_percent', 'Deaths Percent'],\n",
       " ['deaths_rate', 'Deaths Rate'],\n",
       " ['dalys_number', 'DALYs Number'],\n",
       " ['dalys_percent', 'DALYs Percent'],\n",
       " ['dalys_rate', 'DALYs Rate'],\n",
       " ['ylds_number', 'YLDs Number'],\n",
       " ['ylds_percent', 'YLDs Percent'],\n",
       " ['ylds_rate', 'YLDs Rate'],\n",
       " ['ylls_number', 'YLLs Number'],\n",
       " ['ylls_percent', 'YLLs Percent'],\n",
       " ['ylls_rate', 'YLLs Rate'],\n",
       " ['prevalence_number', 'Prevalence Number'],\n",
       " ['prevalence_percent', 'Prevalence Percent'],\n",
       " ['prevalence_rate', 'Prevalence Rate'],\n",
       " ['incidence_number', 'Incidence Number'],\n",
       " ['incidence_percent', 'Incidence Percent'],\n",
       " ['incidence_rate', 'Incidence Rate'],\n",
       " ['mmr_rate', 'MMR Rate']]"
      ]
     },
     "execution_count": 32,
     "metadata": {},
     "output_type": "execute_result"
    }
   ],
   "source": [
    "all_measures"
   ]
  },
  {
   "cell_type": "code",
   "execution_count": 25,
   "metadata": {},
   "outputs": [
    {
     "data": {
      "text/plain": [
       "(335, 5)"
      ]
     },
     "execution_count": 25,
     "metadata": {},
     "output_type": "execute_result"
    }
   ],
   "source": [
    "md['cause'].shape"
   ]
  },
  {
   "cell_type": "code",
   "execution_count": 26,
   "metadata": {},
   "outputs": [
    {
     "data": {
      "text/plain": [
       "(436, 6)"
      ]
     },
     "execution_count": 26,
     "metadata": {},
     "output_type": "execute_result"
    }
   ],
   "source": [
    "md['location'].shape"
   ]
  },
  {
   "cell_type": "code",
   "execution_count": 27,
   "metadata": {},
   "outputs": [
    {
     "data": {
      "text/plain": [
       "(3, 3)"
      ]
     },
     "execution_count": 27,
     "metadata": {},
     "output_type": "execute_result"
    }
   ],
   "source": [
    "md['sex'].shape"
   ]
  },
  {
   "cell_type": "code",
   "execution_count": 28,
   "metadata": {},
   "outputs": [
    {
     "data": {
      "text/plain": [
       "(46, 6)"
      ]
     },
     "execution_count": 28,
     "metadata": {},
     "output_type": "execute_result"
    }
   ],
   "source": [
    "md['age'].shape"
   ]
  },
  {
   "cell_type": "code",
   "execution_count": 33,
   "metadata": {},
   "outputs": [],
   "source": [
    "# entities"
   ]
  },
  {
   "cell_type": "code",
   "execution_count": 35,
   "metadata": {},
   "outputs": [],
   "source": [
    "sexs = md['sex'].copy()"
   ]
  },
  {
   "cell_type": "code",
   "execution_count": 36,
   "metadata": {},
   "outputs": [
    {
     "data": {
      "text/html": [
       "<div>\n",
       "<style scoped>\n",
       "    .dataframe tbody tr th:only-of-type {\n",
       "        vertical-align: middle;\n",
       "    }\n",
       "\n",
       "    .dataframe tbody tr th {\n",
       "        vertical-align: top;\n",
       "    }\n",
       "\n",
       "    .dataframe thead th {\n",
       "        text-align: right;\n",
       "    }\n",
       "</style>\n",
       "<table border=\"1\" class=\"dataframe\">\n",
       "  <thead>\n",
       "    <tr style=\"text-align: right;\">\n",
       "      <th></th>\n",
       "      <th>sex_id</th>\n",
       "      <th>name</th>\n",
       "      <th>label</th>\n",
       "    </tr>\n",
       "  </thead>\n",
       "  <tbody>\n",
       "    <tr>\n",
       "      <th>1</th>\n",
       "      <td>1</td>\n",
       "      <td>Male</td>\n",
       "      <td>Males</td>\n",
       "    </tr>\n",
       "    <tr>\n",
       "      <th>2</th>\n",
       "      <td>2</td>\n",
       "      <td>Female</td>\n",
       "      <td>Females</td>\n",
       "    </tr>\n",
       "    <tr>\n",
       "      <th>3</th>\n",
       "      <td>3</td>\n",
       "      <td>Both</td>\n",
       "      <td>Both sexes</td>\n",
       "    </tr>\n",
       "  </tbody>\n",
       "</table>\n",
       "</div>"
      ],
      "text/plain": [
       "   sex_id    name       label\n",
       "1       1    Male       Males\n",
       "2       2  Female     Females\n",
       "3       3    Both  Both sexes"
      ]
     },
     "execution_count": 36,
     "metadata": {},
     "output_type": "execute_result"
    }
   ],
   "source": [
    "sexs"
   ]
  },
  {
   "cell_type": "code",
   "execution_count": 40,
   "metadata": {},
   "outputs": [],
   "source": [
    "sexs.columns = ['sex', 'name', 'short_name']\n",
    "sexs[['sex', 'name']].to_csv('../../ddf--entities--sex.csv', index=False)"
   ]
  },
  {
   "cell_type": "code",
   "execution_count": 38,
   "metadata": {},
   "outputs": [],
   "source": [
    "causes = md['cause'].copy()"
   ]
  },
  {
   "cell_type": "code",
   "execution_count": 42,
   "metadata": {},
   "outputs": [
    {
     "data": {
      "text/html": [
       "<div>\n",
       "<style scoped>\n",
       "    .dataframe tbody tr th:only-of-type {\n",
       "        vertical-align: middle;\n",
       "    }\n",
       "\n",
       "    .dataframe tbody tr th {\n",
       "        vertical-align: top;\n",
       "    }\n",
       "\n",
       "    .dataframe thead th {\n",
       "        text-align: right;\n",
       "    }\n",
       "</style>\n",
       "<table border=\"1\" class=\"dataframe\">\n",
       "  <thead>\n",
       "    <tr style=\"text-align: right;\">\n",
       "      <th></th>\n",
       "      <th>cause</th>\n",
       "      <th>label</th>\n",
       "      <th>name</th>\n",
       "      <th>medium_name</th>\n",
       "      <th>short_name</th>\n",
       "    </tr>\n",
       "  </thead>\n",
       "  <tbody>\n",
       "    <tr>\n",
       "      <th>294</th>\n",
       "      <td>294</td>\n",
       "      <td>Total</td>\n",
       "      <td>All causes</td>\n",
       "      <td>All causes</td>\n",
       "      <td>All causes</td>\n",
       "    </tr>\n",
       "    <tr>\n",
       "      <th>295</th>\n",
       "      <td>295</td>\n",
       "      <td>A</td>\n",
       "      <td>Communicable, maternal, neonatal, and nutritio...</td>\n",
       "      <td>Group I</td>\n",
       "      <td>Group I</td>\n",
       "    </tr>\n",
       "    <tr>\n",
       "      <th>296</th>\n",
       "      <td>296</td>\n",
       "      <td>A.1</td>\n",
       "      <td>HIV/AIDS and tuberculosis</td>\n",
       "      <td>HIV/AIDS &amp; tuberculosis</td>\n",
       "      <td>HIV+TB</td>\n",
       "    </tr>\n",
       "    <tr>\n",
       "      <th>297</th>\n",
       "      <td>297</td>\n",
       "      <td>A.1.1</td>\n",
       "      <td>Tuberculosis</td>\n",
       "      <td>Tuberculosis</td>\n",
       "      <td>TB</td>\n",
       "    </tr>\n",
       "    <tr>\n",
       "      <th>298</th>\n",
       "      <td>298</td>\n",
       "      <td>A.1.2</td>\n",
       "      <td>HIV/AIDS</td>\n",
       "      <td>HIV/AIDS</td>\n",
       "      <td>HIV</td>\n",
       "    </tr>\n",
       "  </tbody>\n",
       "</table>\n",
       "</div>"
      ],
      "text/plain": [
       "     cause  label                                               name  \\\n",
       "294    294  Total                                         All causes   \n",
       "295    295      A  Communicable, maternal, neonatal, and nutritio...   \n",
       "296    296    A.1                          HIV/AIDS and tuberculosis   \n",
       "297    297  A.1.1                                       Tuberculosis   \n",
       "298    298  A.1.2                                           HIV/AIDS   \n",
       "\n",
       "                 medium_name  short_name  \n",
       "294               All causes  All causes  \n",
       "295                  Group I     Group I  \n",
       "296  HIV/AIDS & tuberculosis      HIV+TB  \n",
       "297             Tuberculosis          TB  \n",
       "298                 HIV/AIDS         HIV  "
      ]
     },
     "execution_count": 42,
     "metadata": {},
     "output_type": "execute_result"
    }
   ],
   "source": [
    "causes.head()"
   ]
  },
  {
   "cell_type": "code",
   "execution_count": 41,
   "metadata": {},
   "outputs": [],
   "source": [
    "causes.columns = ['cause', 'label', 'name', 'medium_name', 'short_name']\n",
    "causes.to_csv('../../ddf--entities--cause.csv', index=False)"
   ]
  },
  {
   "cell_type": "code",
   "execution_count": 43,
   "metadata": {},
   "outputs": [],
   "source": [
    "locations = md['location'].copy()"
   ]
  },
  {
   "cell_type": "code",
   "execution_count": 44,
   "metadata": {
    "scrolled": true
   },
   "outputs": [
    {
     "data": {
      "text/html": [
       "<div>\n",
       "<style scoped>\n",
       "    .dataframe tbody tr th:only-of-type {\n",
       "        vertical-align: middle;\n",
       "    }\n",
       "\n",
       "    .dataframe tbody tr th {\n",
       "        vertical-align: top;\n",
       "    }\n",
       "\n",
       "    .dataframe thead th {\n",
       "        text-align: right;\n",
       "    }\n",
       "</style>\n",
       "<table border=\"1\" class=\"dataframe\">\n",
       "  <thead>\n",
       "    <tr style=\"text-align: right;\">\n",
       "      <th></th>\n",
       "      <th>location_id</th>\n",
       "      <th>type</th>\n",
       "      <th>name</th>\n",
       "      <th>medium_name</th>\n",
       "      <th>short_name</th>\n",
       "      <th>enabled</th>\n",
       "    </tr>\n",
       "  </thead>\n",
       "  <tbody>\n",
       "    <tr>\n",
       "      <th>1</th>\n",
       "      <td>1</td>\n",
       "      <td>NaN</td>\n",
       "      <td>Global</td>\n",
       "      <td>Global</td>\n",
       "      <td>Earth</td>\n",
       "      <td>NaN</td>\n",
       "    </tr>\n",
       "    <tr>\n",
       "      <th>10</th>\n",
       "      <td>10</td>\n",
       "      <td>NaN</td>\n",
       "      <td>Cambodia</td>\n",
       "      <td>Cambodia</td>\n",
       "      <td>Cambodia</td>\n",
       "      <td>NaN</td>\n",
       "    </tr>\n",
       "    <tr>\n",
       "      <th>100</th>\n",
       "      <td>100</td>\n",
       "      <td>NaN</td>\n",
       "      <td>High-income North America</td>\n",
       "      <td>High-income North America</td>\n",
       "      <td>HI N Am</td>\n",
       "      <td>NaN</td>\n",
       "    </tr>\n",
       "    <tr>\n",
       "      <th>101</th>\n",
       "      <td>101</td>\n",
       "      <td>NaN</td>\n",
       "      <td>Canada</td>\n",
       "      <td>Canada</td>\n",
       "      <td>Canada</td>\n",
       "      <td>NaN</td>\n",
       "    </tr>\n",
       "    <tr>\n",
       "      <th>102</th>\n",
       "      <td>102</td>\n",
       "      <td>NaN</td>\n",
       "      <td>United States</td>\n",
       "      <td>United States</td>\n",
       "      <td>USA</td>\n",
       "      <td>NaN</td>\n",
       "    </tr>\n",
       "    <tr>\n",
       "      <th>103</th>\n",
       "      <td>103</td>\n",
       "      <td>NaN</td>\n",
       "      <td>Latin America and Caribbean</td>\n",
       "      <td>Latin America and Caribbean</td>\n",
       "      <td>Latin Am &amp; Caribbean</td>\n",
       "      <td>NaN</td>\n",
       "    </tr>\n",
       "    <tr>\n",
       "      <th>104</th>\n",
       "      <td>104</td>\n",
       "      <td>NaN</td>\n",
       "      <td>Caribbean</td>\n",
       "      <td>Caribbean</td>\n",
       "      <td>Caribbean</td>\n",
       "      <td>NaN</td>\n",
       "    </tr>\n",
       "    <tr>\n",
       "      <th>105</th>\n",
       "      <td>105</td>\n",
       "      <td>NaN</td>\n",
       "      <td>Antigua and Barbuda</td>\n",
       "      <td>Antigua and Barbuda</td>\n",
       "      <td>Antigua</td>\n",
       "      <td>NaN</td>\n",
       "    </tr>\n",
       "    <tr>\n",
       "      <th>106</th>\n",
       "      <td>106</td>\n",
       "      <td>NaN</td>\n",
       "      <td>The Bahamas</td>\n",
       "      <td>The Bahamas</td>\n",
       "      <td>Bahamas</td>\n",
       "      <td>NaN</td>\n",
       "    </tr>\n",
       "    <tr>\n",
       "      <th>107</th>\n",
       "      <td>107</td>\n",
       "      <td>NaN</td>\n",
       "      <td>Barbados</td>\n",
       "      <td>Barbados</td>\n",
       "      <td>Barbados</td>\n",
       "      <td>NaN</td>\n",
       "    </tr>\n",
       "    <tr>\n",
       "      <th>108</th>\n",
       "      <td>108</td>\n",
       "      <td>NaN</td>\n",
       "      <td>Belize</td>\n",
       "      <td>Belize</td>\n",
       "      <td>Belize</td>\n",
       "      <td>NaN</td>\n",
       "    </tr>\n",
       "    <tr>\n",
       "      <th>109</th>\n",
       "      <td>109</td>\n",
       "      <td>NaN</td>\n",
       "      <td>Cuba</td>\n",
       "      <td>Cuba</td>\n",
       "      <td>Cuba</td>\n",
       "      <td>NaN</td>\n",
       "    </tr>\n",
       "    <tr>\n",
       "      <th>11</th>\n",
       "      <td>11</td>\n",
       "      <td>NaN</td>\n",
       "      <td>Indonesia</td>\n",
       "      <td>Indonesia</td>\n",
       "      <td>Indonesia</td>\n",
       "      <td>NaN</td>\n",
       "    </tr>\n",
       "    <tr>\n",
       "      <th>110</th>\n",
       "      <td>110</td>\n",
       "      <td>NaN</td>\n",
       "      <td>Dominica</td>\n",
       "      <td>Dominica</td>\n",
       "      <td>Dominica</td>\n",
       "      <td>NaN</td>\n",
       "    </tr>\n",
       "    <tr>\n",
       "      <th>111</th>\n",
       "      <td>111</td>\n",
       "      <td>NaN</td>\n",
       "      <td>Dominican Republic</td>\n",
       "      <td>Dominican Republic</td>\n",
       "      <td>Dominican Rep</td>\n",
       "      <td>NaN</td>\n",
       "    </tr>\n",
       "    <tr>\n",
       "      <th>112</th>\n",
       "      <td>112</td>\n",
       "      <td>NaN</td>\n",
       "      <td>Grenada</td>\n",
       "      <td>Grenada</td>\n",
       "      <td>Grenada</td>\n",
       "      <td>NaN</td>\n",
       "    </tr>\n",
       "    <tr>\n",
       "      <th>113</th>\n",
       "      <td>113</td>\n",
       "      <td>NaN</td>\n",
       "      <td>Guyana</td>\n",
       "      <td>Guyana</td>\n",
       "      <td>Guyana</td>\n",
       "      <td>NaN</td>\n",
       "    </tr>\n",
       "    <tr>\n",
       "      <th>114</th>\n",
       "      <td>114</td>\n",
       "      <td>NaN</td>\n",
       "      <td>Haiti</td>\n",
       "      <td>Haiti</td>\n",
       "      <td>Haiti</td>\n",
       "      <td>NaN</td>\n",
       "    </tr>\n",
       "    <tr>\n",
       "      <th>115</th>\n",
       "      <td>115</td>\n",
       "      <td>NaN</td>\n",
       "      <td>Jamaica</td>\n",
       "      <td>Jamaica</td>\n",
       "      <td>Jamaica</td>\n",
       "      <td>NaN</td>\n",
       "    </tr>\n",
       "    <tr>\n",
       "      <th>116</th>\n",
       "      <td>116</td>\n",
       "      <td>NaN</td>\n",
       "      <td>Saint Lucia</td>\n",
       "      <td>Saint Lucia</td>\n",
       "      <td>St Lucia</td>\n",
       "      <td>NaN</td>\n",
       "    </tr>\n",
       "    <tr>\n",
       "      <th>117</th>\n",
       "      <td>117</td>\n",
       "      <td>NaN</td>\n",
       "      <td>Saint Vincent and the Grenadines</td>\n",
       "      <td>Saint Vincent and the Grenadines</td>\n",
       "      <td>St Vincent</td>\n",
       "      <td>NaN</td>\n",
       "    </tr>\n",
       "    <tr>\n",
       "      <th>118</th>\n",
       "      <td>118</td>\n",
       "      <td>NaN</td>\n",
       "      <td>Suriname</td>\n",
       "      <td>Suriname</td>\n",
       "      <td>Suriname</td>\n",
       "      <td>NaN</td>\n",
       "    </tr>\n",
       "    <tr>\n",
       "      <th>119</th>\n",
       "      <td>119</td>\n",
       "      <td>NaN</td>\n",
       "      <td>Trinidad and Tobago</td>\n",
       "      <td>Trinidad and Tobago</td>\n",
       "      <td>Trinidad Tobago</td>\n",
       "      <td>NaN</td>\n",
       "    </tr>\n",
       "    <tr>\n",
       "      <th>12</th>\n",
       "      <td>12</td>\n",
       "      <td>NaN</td>\n",
       "      <td>Laos</td>\n",
       "      <td>Laos</td>\n",
       "      <td>Laos</td>\n",
       "      <td>NaN</td>\n",
       "    </tr>\n",
       "    <tr>\n",
       "      <th>120</th>\n",
       "      <td>120</td>\n",
       "      <td>NaN</td>\n",
       "      <td>Andean Latin America</td>\n",
       "      <td>Andean Latin America</td>\n",
       "      <td>Andean Latin Am</td>\n",
       "      <td>NaN</td>\n",
       "    </tr>\n",
       "    <tr>\n",
       "      <th>121</th>\n",
       "      <td>121</td>\n",
       "      <td>NaN</td>\n",
       "      <td>Bolivia</td>\n",
       "      <td>Bolivia</td>\n",
       "      <td>Bolivia</td>\n",
       "      <td>NaN</td>\n",
       "    </tr>\n",
       "    <tr>\n",
       "      <th>122</th>\n",
       "      <td>122</td>\n",
       "      <td>NaN</td>\n",
       "      <td>Ecuador</td>\n",
       "      <td>Ecuador</td>\n",
       "      <td>Ecuador</td>\n",
       "      <td>NaN</td>\n",
       "    </tr>\n",
       "    <tr>\n",
       "      <th>123</th>\n",
       "      <td>123</td>\n",
       "      <td>NaN</td>\n",
       "      <td>Peru</td>\n",
       "      <td>Peru</td>\n",
       "      <td>Peru</td>\n",
       "      <td>NaN</td>\n",
       "    </tr>\n",
       "    <tr>\n",
       "      <th>124</th>\n",
       "      <td>124</td>\n",
       "      <td>NaN</td>\n",
       "      <td>Central Latin America</td>\n",
       "      <td>Central Latin America</td>\n",
       "      <td>Central Latin Am</td>\n",
       "      <td>NaN</td>\n",
       "    </tr>\n",
       "    <tr>\n",
       "      <th>125</th>\n",
       "      <td>125</td>\n",
       "      <td>NaN</td>\n",
       "      <td>Colombia</td>\n",
       "      <td>Colombia</td>\n",
       "      <td>Colombia</td>\n",
       "      <td>NaN</td>\n",
       "    </tr>\n",
       "    <tr>\n",
       "      <th>...</th>\n",
       "      <td>...</td>\n",
       "      <td>...</td>\n",
       "      <td>...</td>\n",
       "      <td>...</td>\n",
       "      <td>...</td>\n",
       "      <td>...</td>\n",
       "    </tr>\n",
       "    <tr>\n",
       "      <th>73</th>\n",
       "      <td>73</td>\n",
       "      <td>NaN</td>\n",
       "      <td>Western Europe</td>\n",
       "      <td>Western Europe</td>\n",
       "      <td>W Europe</td>\n",
       "      <td>NaN</td>\n",
       "    </tr>\n",
       "    <tr>\n",
       "      <th>74</th>\n",
       "      <td>74</td>\n",
       "      <td>NaN</td>\n",
       "      <td>Andorra</td>\n",
       "      <td>Andorra</td>\n",
       "      <td>Andorra</td>\n",
       "      <td>NaN</td>\n",
       "    </tr>\n",
       "    <tr>\n",
       "      <th>75</th>\n",
       "      <td>75</td>\n",
       "      <td>NaN</td>\n",
       "      <td>Austria</td>\n",
       "      <td>Austria</td>\n",
       "      <td>Austria</td>\n",
       "      <td>NaN</td>\n",
       "    </tr>\n",
       "    <tr>\n",
       "      <th>76</th>\n",
       "      <td>76</td>\n",
       "      <td>NaN</td>\n",
       "      <td>Belgium</td>\n",
       "      <td>Belgium</td>\n",
       "      <td>Belgium</td>\n",
       "      <td>NaN</td>\n",
       "    </tr>\n",
       "    <tr>\n",
       "      <th>77</th>\n",
       "      <td>77</td>\n",
       "      <td>NaN</td>\n",
       "      <td>Cyprus</td>\n",
       "      <td>Cyprus</td>\n",
       "      <td>Cyprus</td>\n",
       "      <td>NaN</td>\n",
       "    </tr>\n",
       "    <tr>\n",
       "      <th>78</th>\n",
       "      <td>78</td>\n",
       "      <td>NaN</td>\n",
       "      <td>Denmark</td>\n",
       "      <td>Denmark</td>\n",
       "      <td>Denmark</td>\n",
       "      <td>NaN</td>\n",
       "    </tr>\n",
       "    <tr>\n",
       "      <th>79</th>\n",
       "      <td>79</td>\n",
       "      <td>NaN</td>\n",
       "      <td>Finland</td>\n",
       "      <td>Finland</td>\n",
       "      <td>Finland</td>\n",
       "      <td>NaN</td>\n",
       "    </tr>\n",
       "    <tr>\n",
       "      <th>8</th>\n",
       "      <td>8</td>\n",
       "      <td>NaN</td>\n",
       "      <td>Taiwan</td>\n",
       "      <td>Taiwan</td>\n",
       "      <td>Taiwan</td>\n",
       "      <td>NaN</td>\n",
       "    </tr>\n",
       "    <tr>\n",
       "      <th>80</th>\n",
       "      <td>80</td>\n",
       "      <td>NaN</td>\n",
       "      <td>France</td>\n",
       "      <td>France</td>\n",
       "      <td>France</td>\n",
       "      <td>NaN</td>\n",
       "    </tr>\n",
       "    <tr>\n",
       "      <th>81</th>\n",
       "      <td>81</td>\n",
       "      <td>NaN</td>\n",
       "      <td>Germany</td>\n",
       "      <td>Germany</td>\n",
       "      <td>Germany</td>\n",
       "      <td>NaN</td>\n",
       "    </tr>\n",
       "    <tr>\n",
       "      <th>82</th>\n",
       "      <td>82</td>\n",
       "      <td>NaN</td>\n",
       "      <td>Greece</td>\n",
       "      <td>Greece</td>\n",
       "      <td>Greece</td>\n",
       "      <td>NaN</td>\n",
       "    </tr>\n",
       "    <tr>\n",
       "      <th>83</th>\n",
       "      <td>83</td>\n",
       "      <td>NaN</td>\n",
       "      <td>Iceland</td>\n",
       "      <td>Iceland</td>\n",
       "      <td>Iceland</td>\n",
       "      <td>NaN</td>\n",
       "    </tr>\n",
       "    <tr>\n",
       "      <th>84</th>\n",
       "      <td>84</td>\n",
       "      <td>NaN</td>\n",
       "      <td>Ireland</td>\n",
       "      <td>Ireland</td>\n",
       "      <td>Ireland</td>\n",
       "      <td>NaN</td>\n",
       "    </tr>\n",
       "    <tr>\n",
       "      <th>85</th>\n",
       "      <td>85</td>\n",
       "      <td>NaN</td>\n",
       "      <td>Israel</td>\n",
       "      <td>Israel</td>\n",
       "      <td>Israel</td>\n",
       "      <td>NaN</td>\n",
       "    </tr>\n",
       "    <tr>\n",
       "      <th>86</th>\n",
       "      <td>86</td>\n",
       "      <td>NaN</td>\n",
       "      <td>Italy</td>\n",
       "      <td>Italy</td>\n",
       "      <td>Italy</td>\n",
       "      <td>NaN</td>\n",
       "    </tr>\n",
       "    <tr>\n",
       "      <th>87</th>\n",
       "      <td>87</td>\n",
       "      <td>NaN</td>\n",
       "      <td>Luxembourg</td>\n",
       "      <td>Luxembourg</td>\n",
       "      <td>Luxembourg</td>\n",
       "      <td>NaN</td>\n",
       "    </tr>\n",
       "    <tr>\n",
       "      <th>88</th>\n",
       "      <td>88</td>\n",
       "      <td>NaN</td>\n",
       "      <td>Malta</td>\n",
       "      <td>Malta</td>\n",
       "      <td>Malta</td>\n",
       "      <td>NaN</td>\n",
       "    </tr>\n",
       "    <tr>\n",
       "      <th>89</th>\n",
       "      <td>89</td>\n",
       "      <td>NaN</td>\n",
       "      <td>Netherlands</td>\n",
       "      <td>Netherlands</td>\n",
       "      <td>Netherlands</td>\n",
       "      <td>NaN</td>\n",
       "    </tr>\n",
       "    <tr>\n",
       "      <th>9</th>\n",
       "      <td>9</td>\n",
       "      <td>NaN</td>\n",
       "      <td>Southeast Asia</td>\n",
       "      <td>Southeast Asia</td>\n",
       "      <td>SE Asia</td>\n",
       "      <td>NaN</td>\n",
       "    </tr>\n",
       "    <tr>\n",
       "      <th>90</th>\n",
       "      <td>90</td>\n",
       "      <td>NaN</td>\n",
       "      <td>Norway</td>\n",
       "      <td>Norway</td>\n",
       "      <td>Norway</td>\n",
       "      <td>NaN</td>\n",
       "    </tr>\n",
       "    <tr>\n",
       "      <th>91</th>\n",
       "      <td>91</td>\n",
       "      <td>NaN</td>\n",
       "      <td>Portugal</td>\n",
       "      <td>Portugal</td>\n",
       "      <td>Portugal</td>\n",
       "      <td>NaN</td>\n",
       "    </tr>\n",
       "    <tr>\n",
       "      <th>92</th>\n",
       "      <td>92</td>\n",
       "      <td>NaN</td>\n",
       "      <td>Spain</td>\n",
       "      <td>Spain</td>\n",
       "      <td>Spain</td>\n",
       "      <td>NaN</td>\n",
       "    </tr>\n",
       "    <tr>\n",
       "      <th>93</th>\n",
       "      <td>93</td>\n",
       "      <td>NaN</td>\n",
       "      <td>Sweden</td>\n",
       "      <td>Sweden</td>\n",
       "      <td>Sweden</td>\n",
       "      <td>NaN</td>\n",
       "    </tr>\n",
       "    <tr>\n",
       "      <th>94</th>\n",
       "      <td>94</td>\n",
       "      <td>NaN</td>\n",
       "      <td>Switzerland</td>\n",
       "      <td>Switzerland</td>\n",
       "      <td>Switzerland</td>\n",
       "      <td>NaN</td>\n",
       "    </tr>\n",
       "    <tr>\n",
       "      <th>95</th>\n",
       "      <td>95</td>\n",
       "      <td>NaN</td>\n",
       "      <td>United Kingdom</td>\n",
       "      <td>United Kingdom</td>\n",
       "      <td>UK</td>\n",
       "      <td>NaN</td>\n",
       "    </tr>\n",
       "    <tr>\n",
       "      <th>96</th>\n",
       "      <td>96</td>\n",
       "      <td>NaN</td>\n",
       "      <td>Southern Latin America</td>\n",
       "      <td>Southern Latin America</td>\n",
       "      <td>S Latin Am</td>\n",
       "      <td>NaN</td>\n",
       "    </tr>\n",
       "    <tr>\n",
       "      <th>97</th>\n",
       "      <td>97</td>\n",
       "      <td>NaN</td>\n",
       "      <td>Argentina</td>\n",
       "      <td>Argentina</td>\n",
       "      <td>Argentina</td>\n",
       "      <td>NaN</td>\n",
       "    </tr>\n",
       "    <tr>\n",
       "      <th>98</th>\n",
       "      <td>98</td>\n",
       "      <td>NaN</td>\n",
       "      <td>Chile</td>\n",
       "      <td>Chile</td>\n",
       "      <td>Chile</td>\n",
       "      <td>NaN</td>\n",
       "    </tr>\n",
       "    <tr>\n",
       "      <th>99</th>\n",
       "      <td>99</td>\n",
       "      <td>NaN</td>\n",
       "      <td>Uruguay</td>\n",
       "      <td>Uruguay</td>\n",
       "      <td>Uruguay</td>\n",
       "      <td>NaN</td>\n",
       "    </tr>\n",
       "    <tr>\n",
       "      <th>custom</th>\n",
       "      <td>custom</td>\n",
       "      <td>custom</td>\n",
       "      <td>Custom regions</td>\n",
       "      <td>Custom regions</td>\n",
       "      <td>Custom regions</td>\n",
       "      <td>False</td>\n",
       "    </tr>\n",
       "  </tbody>\n",
       "</table>\n",
       "<p>436 rows × 6 columns</p>\n",
       "</div>"
      ],
      "text/plain": [
       "       location_id    type                              name  \\\n",
       "1                1     NaN                            Global   \n",
       "10              10     NaN                          Cambodia   \n",
       "100            100     NaN         High-income North America   \n",
       "101            101     NaN                            Canada   \n",
       "102            102     NaN                     United States   \n",
       "103            103     NaN       Latin America and Caribbean   \n",
       "104            104     NaN                         Caribbean   \n",
       "105            105     NaN               Antigua and Barbuda   \n",
       "106            106     NaN                       The Bahamas   \n",
       "107            107     NaN                          Barbados   \n",
       "108            108     NaN                            Belize   \n",
       "109            109     NaN                              Cuba   \n",
       "11              11     NaN                         Indonesia   \n",
       "110            110     NaN                          Dominica   \n",
       "111            111     NaN                Dominican Republic   \n",
       "112            112     NaN                           Grenada   \n",
       "113            113     NaN                            Guyana   \n",
       "114            114     NaN                             Haiti   \n",
       "115            115     NaN                           Jamaica   \n",
       "116            116     NaN                       Saint Lucia   \n",
       "117            117     NaN  Saint Vincent and the Grenadines   \n",
       "118            118     NaN                          Suriname   \n",
       "119            119     NaN               Trinidad and Tobago   \n",
       "12              12     NaN                              Laos   \n",
       "120            120     NaN              Andean Latin America   \n",
       "121            121     NaN                           Bolivia   \n",
       "122            122     NaN                           Ecuador   \n",
       "123            123     NaN                              Peru   \n",
       "124            124     NaN             Central Latin America   \n",
       "125            125     NaN                          Colombia   \n",
       "...            ...     ...                               ...   \n",
       "73              73     NaN                    Western Europe   \n",
       "74              74     NaN                           Andorra   \n",
       "75              75     NaN                           Austria   \n",
       "76              76     NaN                           Belgium   \n",
       "77              77     NaN                            Cyprus   \n",
       "78              78     NaN                           Denmark   \n",
       "79              79     NaN                           Finland   \n",
       "8                8     NaN                            Taiwan   \n",
       "80              80     NaN                            France   \n",
       "81              81     NaN                           Germany   \n",
       "82              82     NaN                            Greece   \n",
       "83              83     NaN                           Iceland   \n",
       "84              84     NaN                           Ireland   \n",
       "85              85     NaN                            Israel   \n",
       "86              86     NaN                             Italy   \n",
       "87              87     NaN                        Luxembourg   \n",
       "88              88     NaN                             Malta   \n",
       "89              89     NaN                       Netherlands   \n",
       "9                9     NaN                    Southeast Asia   \n",
       "90              90     NaN                            Norway   \n",
       "91              91     NaN                          Portugal   \n",
       "92              92     NaN                             Spain   \n",
       "93              93     NaN                            Sweden   \n",
       "94              94     NaN                       Switzerland   \n",
       "95              95     NaN                    United Kingdom   \n",
       "96              96     NaN            Southern Latin America   \n",
       "97              97     NaN                         Argentina   \n",
       "98              98     NaN                             Chile   \n",
       "99              99     NaN                           Uruguay   \n",
       "custom      custom  custom                    Custom regions   \n",
       "\n",
       "                             medium_name            short_name enabled  \n",
       "1                                 Global                 Earth     NaN  \n",
       "10                              Cambodia              Cambodia     NaN  \n",
       "100            High-income North America               HI N Am     NaN  \n",
       "101                               Canada                Canada     NaN  \n",
       "102                        United States                   USA     NaN  \n",
       "103          Latin America and Caribbean  Latin Am & Caribbean     NaN  \n",
       "104                            Caribbean             Caribbean     NaN  \n",
       "105                  Antigua and Barbuda               Antigua     NaN  \n",
       "106                          The Bahamas               Bahamas     NaN  \n",
       "107                             Barbados              Barbados     NaN  \n",
       "108                               Belize                Belize     NaN  \n",
       "109                                 Cuba                  Cuba     NaN  \n",
       "11                             Indonesia             Indonesia     NaN  \n",
       "110                             Dominica              Dominica     NaN  \n",
       "111                   Dominican Republic         Dominican Rep     NaN  \n",
       "112                              Grenada               Grenada     NaN  \n",
       "113                               Guyana                Guyana     NaN  \n",
       "114                                Haiti                 Haiti     NaN  \n",
       "115                              Jamaica               Jamaica     NaN  \n",
       "116                          Saint Lucia              St Lucia     NaN  \n",
       "117     Saint Vincent and the Grenadines            St Vincent     NaN  \n",
       "118                             Suriname              Suriname     NaN  \n",
       "119                  Trinidad and Tobago       Trinidad Tobago     NaN  \n",
       "12                                  Laos                  Laos     NaN  \n",
       "120                 Andean Latin America       Andean Latin Am     NaN  \n",
       "121                              Bolivia               Bolivia     NaN  \n",
       "122                              Ecuador               Ecuador     NaN  \n",
       "123                                 Peru                  Peru     NaN  \n",
       "124                Central Latin America      Central Latin Am     NaN  \n",
       "125                             Colombia              Colombia     NaN  \n",
       "...                                  ...                   ...     ...  \n",
       "73                        Western Europe              W Europe     NaN  \n",
       "74                               Andorra               Andorra     NaN  \n",
       "75                               Austria               Austria     NaN  \n",
       "76                               Belgium               Belgium     NaN  \n",
       "77                                Cyprus                Cyprus     NaN  \n",
       "78                               Denmark               Denmark     NaN  \n",
       "79                               Finland               Finland     NaN  \n",
       "8                                 Taiwan                Taiwan     NaN  \n",
       "80                                France                France     NaN  \n",
       "81                               Germany               Germany     NaN  \n",
       "82                                Greece                Greece     NaN  \n",
       "83                               Iceland               Iceland     NaN  \n",
       "84                               Ireland               Ireland     NaN  \n",
       "85                                Israel                Israel     NaN  \n",
       "86                                 Italy                 Italy     NaN  \n",
       "87                            Luxembourg            Luxembourg     NaN  \n",
       "88                                 Malta                 Malta     NaN  \n",
       "89                           Netherlands           Netherlands     NaN  \n",
       "9                         Southeast Asia               SE Asia     NaN  \n",
       "90                                Norway                Norway     NaN  \n",
       "91                              Portugal              Portugal     NaN  \n",
       "92                                 Spain                 Spain     NaN  \n",
       "93                                Sweden                Sweden     NaN  \n",
       "94                           Switzerland           Switzerland     NaN  \n",
       "95                        United Kingdom                    UK     NaN  \n",
       "96                Southern Latin America            S Latin Am     NaN  \n",
       "97                             Argentina             Argentina     NaN  \n",
       "98                                 Chile                 Chile     NaN  \n",
       "99                               Uruguay               Uruguay     NaN  \n",
       "custom                    Custom regions        Custom regions   False  \n",
       "\n",
       "[436 rows x 6 columns]"
      ]
     },
     "execution_count": 44,
     "metadata": {},
     "output_type": "execute_result"
    }
   ],
   "source": [
    "locations"
   ]
  },
  {
   "cell_type": "code",
   "execution_count": 45,
   "metadata": {},
   "outputs": [],
   "source": [
    "# don't include the custom region"
   ]
  },
  {
   "cell_type": "code",
   "execution_count": 46,
   "metadata": {},
   "outputs": [],
   "source": [
    "locations = locations.iloc[:-1]"
   ]
  },
  {
   "cell_type": "code",
   "execution_count": 47,
   "metadata": {},
   "outputs": [
    {
     "data": {
      "text/plain": [
       "(435, 6)"
      ]
     },
     "execution_count": 47,
     "metadata": {},
     "output_type": "execute_result"
    }
   ],
   "source": [
    "locations.shape"
   ]
  },
  {
   "cell_type": "code",
   "execution_count": 48,
   "metadata": {},
   "outputs": [],
   "source": [
    "locations = locations[['location_id', 'name', 'short_name', 'medium_name']]\n",
    "locations.columns = ['location', 'name', 'short_name', 'medium_name']"
   ]
  },
  {
   "cell_type": "code",
   "execution_count": 49,
   "metadata": {},
   "outputs": [
    {
     "data": {
      "text/html": [
       "<div>\n",
       "<style scoped>\n",
       "    .dataframe tbody tr th:only-of-type {\n",
       "        vertical-align: middle;\n",
       "    }\n",
       "\n",
       "    .dataframe tbody tr th {\n",
       "        vertical-align: top;\n",
       "    }\n",
       "\n",
       "    .dataframe thead th {\n",
       "        text-align: right;\n",
       "    }\n",
       "</style>\n",
       "<table border=\"1\" class=\"dataframe\">\n",
       "  <thead>\n",
       "    <tr style=\"text-align: right;\">\n",
       "      <th></th>\n",
       "      <th>location</th>\n",
       "      <th>name</th>\n",
       "      <th>short_name</th>\n",
       "      <th>medium_name</th>\n",
       "    </tr>\n",
       "  </thead>\n",
       "  <tbody>\n",
       "    <tr>\n",
       "      <th>1</th>\n",
       "      <td>1</td>\n",
       "      <td>Global</td>\n",
       "      <td>Earth</td>\n",
       "      <td>Global</td>\n",
       "    </tr>\n",
       "    <tr>\n",
       "      <th>10</th>\n",
       "      <td>10</td>\n",
       "      <td>Cambodia</td>\n",
       "      <td>Cambodia</td>\n",
       "      <td>Cambodia</td>\n",
       "    </tr>\n",
       "    <tr>\n",
       "      <th>100</th>\n",
       "      <td>100</td>\n",
       "      <td>High-income North America</td>\n",
       "      <td>HI N Am</td>\n",
       "      <td>High-income North America</td>\n",
       "    </tr>\n",
       "    <tr>\n",
       "      <th>101</th>\n",
       "      <td>101</td>\n",
       "      <td>Canada</td>\n",
       "      <td>Canada</td>\n",
       "      <td>Canada</td>\n",
       "    </tr>\n",
       "    <tr>\n",
       "      <th>102</th>\n",
       "      <td>102</td>\n",
       "      <td>United States</td>\n",
       "      <td>USA</td>\n",
       "      <td>United States</td>\n",
       "    </tr>\n",
       "  </tbody>\n",
       "</table>\n",
       "</div>"
      ],
      "text/plain": [
       "    location                       name short_name                medium_name\n",
       "1          1                     Global      Earth                     Global\n",
       "10        10                   Cambodia   Cambodia                   Cambodia\n",
       "100      100  High-income North America    HI N Am  High-income North America\n",
       "101      101                     Canada     Canada                     Canada\n",
       "102      102              United States        USA              United States"
      ]
     },
     "execution_count": 49,
     "metadata": {},
     "output_type": "execute_result"
    }
   ],
   "source": [
    "locations.head()"
   ]
  },
  {
   "cell_type": "code",
   "execution_count": 50,
   "metadata": {},
   "outputs": [],
   "source": [
    "locations.to_csv('../../ddf--entities--location.csv', index=False)"
   ]
  },
  {
   "cell_type": "code",
   "execution_count": 63,
   "metadata": {},
   "outputs": [],
   "source": [
    "ages = md['age'].copy()"
   ]
  },
  {
   "cell_type": "code",
   "execution_count": 65,
   "metadata": {},
   "outputs": [
    {
     "data": {
      "text/html": [
       "<div>\n",
       "<style scoped>\n",
       "    .dataframe tbody tr th:only-of-type {\n",
       "        vertical-align: middle;\n",
       "    }\n",
       "\n",
       "    .dataframe tbody tr th {\n",
       "        vertical-align: top;\n",
       "    }\n",
       "\n",
       "    .dataframe thead th {\n",
       "        text-align: right;\n",
       "    }\n",
       "</style>\n",
       "<table border=\"1\" class=\"dataframe\">\n",
       "  <thead>\n",
       "    <tr style=\"text-align: right;\">\n",
       "      <th></th>\n",
       "      <th>age_id</th>\n",
       "      <th>name</th>\n",
       "      <th>short_name</th>\n",
       "      <th>sort</th>\n",
       "      <th>plot</th>\n",
       "      <th>type</th>\n",
       "    </tr>\n",
       "  </thead>\n",
       "  <tbody>\n",
       "    <tr>\n",
       "      <th>1</th>\n",
       "      <td>1</td>\n",
       "      <td>Under 5</td>\n",
       "      <td>&lt;5</td>\n",
       "      <td>22</td>\n",
       "      <td>0</td>\n",
       "      <td>aggregate</td>\n",
       "    </tr>\n",
       "    <tr>\n",
       "      <th>10</th>\n",
       "      <td>10</td>\n",
       "      <td>25 to 29</td>\n",
       "      <td>25</td>\n",
       "      <td>10</td>\n",
       "      <td>1</td>\n",
       "      <td>specific</td>\n",
       "    </tr>\n",
       "    <tr>\n",
       "      <th>11</th>\n",
       "      <td>11</td>\n",
       "      <td>30 to 34</td>\n",
       "      <td>30</td>\n",
       "      <td>11</td>\n",
       "      <td>1</td>\n",
       "      <td>specific</td>\n",
       "    </tr>\n",
       "    <tr>\n",
       "      <th>12</th>\n",
       "      <td>12</td>\n",
       "      <td>35 to 39</td>\n",
       "      <td>35</td>\n",
       "      <td>12</td>\n",
       "      <td>1</td>\n",
       "      <td>specific</td>\n",
       "    </tr>\n",
       "    <tr>\n",
       "      <th>13</th>\n",
       "      <td>13</td>\n",
       "      <td>40 to 44</td>\n",
       "      <td>40</td>\n",
       "      <td>13</td>\n",
       "      <td>1</td>\n",
       "      <td>specific</td>\n",
       "    </tr>\n",
       "  </tbody>\n",
       "</table>\n",
       "</div>"
      ],
      "text/plain": [
       "    age_id      name short_name  sort  plot       type\n",
       "1        1   Under 5         <5    22     0  aggregate\n",
       "10      10  25 to 29         25    10     1   specific\n",
       "11      11  30 to 34         30    11     1   specific\n",
       "12      12  35 to 39         35    12     1   specific\n",
       "13      13  40 to 44         40    13     1   specific"
      ]
     },
     "execution_count": 65,
     "metadata": {},
     "output_type": "execute_result"
    }
   ],
   "source": [
    "ages.head()"
   ]
  },
  {
   "cell_type": "code",
   "execution_count": 66,
   "metadata": {},
   "outputs": [],
   "source": [
    "ages = ages.sort_values(by='sort')[['age_id', 'name', 'short_name', 'type']]\n",
    "ages.columns = ['age', 'name', 'short_name', 'type']"
   ]
  },
  {
   "cell_type": "code",
   "execution_count": 68,
   "metadata": {},
   "outputs": [],
   "source": [
    "ages.to_csv('../../ddf--entities--age.csv', index=False)"
   ]
  },
  {
   "cell_type": "code",
   "execution_count": null,
   "metadata": {},
   "outputs": [],
   "source": []
  },
  {
   "cell_type": "code",
   "execution_count": 55,
   "metadata": {},
   "outputs": [],
   "source": [
    "# concepts"
   ]
  },
  {
   "cell_type": "code",
   "execution_count": 56,
   "metadata": {},
   "outputs": [],
   "source": [
    "cont_cdf = pd.DataFrame(all_measures, columns=['concept', 'name'])"
   ]
  },
  {
   "cell_type": "code",
   "execution_count": 58,
   "metadata": {},
   "outputs": [],
   "source": [
    "cont_cdf['concept_type'] = 'measure'"
   ]
  },
  {
   "cell_type": "code",
   "execution_count": 60,
   "metadata": {},
   "outputs": [],
   "source": [
    "cont_cdf.to_csv('../../ddf--concepts--continuous.csv', index=False)"
   ]
  },
  {
   "cell_type": "code",
   "execution_count": null,
   "metadata": {},
   "outputs": [],
   "source": []
  },
  {
   "cell_type": "code",
   "execution_count": 60,
   "metadata": {},
   "outputs": [],
   "source": [
    "dis_cdf = pd.DataFrame([\n",
    "    ['name', 'Name', 'string'],\n",
    "    ['short_name', 'Short Name', 'string'],\n",
    "    ['medium_name', 'Medium Name', 'string'],\n",
    "    ['long_name', 'Long Name', 'string'],\n",
    "    ['location', 'Location', 'entity_domain'],\n",
    "    ['sex', 'Sex', 'entity_domain'],\n",
    "    ['age', 'Age', 'entity_domain'],\n",
    "    ['cause', 'Cause', 'entity_domain'],\n",
    "    ['rei', 'Risk/Etiology/Impairment', 'entity_domain'],\n",
    "    ['label', 'Label', 'string'],\n",
    "    ['year', 'Year', 'time'],\n",
    "    ['type', 'Type', 'string']\n",
    "], columns=['concept', 'name', 'concept_type'])"
   ]
  },
  {
   "cell_type": "code",
   "execution_count": 61,
   "metadata": {},
   "outputs": [],
   "source": [
    "dis_cdf.sort_values(by='concept').to_csv('../../ddf--concepts--discrete.csv', index=False)"
   ]
  },
  {
   "cell_type": "code",
   "execution_count": null,
   "metadata": {},
   "outputs": [],
   "source": []
  },
  {
   "cell_type": "code",
   "execution_count": null,
   "metadata": {},
   "outputs": [],
   "source": []
  },
  {
   "cell_type": "code",
   "execution_count": 11,
   "metadata": {},
   "outputs": [],
   "source": [
    "# Risk dimension"
   ]
  },
  {
   "cell_type": "code",
   "execution_count": 12,
   "metadata": {},
   "outputs": [],
   "source": [
    "rei = md['rei']"
   ]
  },
  {
   "cell_type": "code",
   "execution_count": 22,
   "metadata": {},
   "outputs": [
    {
     "data": {
      "text/html": [
       "<div>\n",
       "<style scoped>\n",
       "    .dataframe tbody tr th:only-of-type {\n",
       "        vertical-align: middle;\n",
       "    }\n",
       "\n",
       "    .dataframe tbody tr th {\n",
       "        vertical-align: top;\n",
       "    }\n",
       "\n",
       "    .dataframe thead th {\n",
       "        text-align: right;\n",
       "    }\n",
       "</style>\n",
       "<table border=\"1\" class=\"dataframe\">\n",
       "  <thead>\n",
       "    <tr style=\"text-align: right;\">\n",
       "      <th></th>\n",
       "      <th>rei_id</th>\n",
       "      <th>type</th>\n",
       "      <th>name</th>\n",
       "      <th>short_name</th>\n",
       "      <th>enabled</th>\n",
       "    </tr>\n",
       "  </thead>\n",
       "  <tbody>\n",
       "    <tr>\n",
       "      <th>184</th>\n",
       "      <td>184</td>\n",
       "      <td>etiology</td>\n",
       "      <td>Norovirus</td>\n",
       "      <td>Norovirus</td>\n",
       "      <td>1</td>\n",
       "    </tr>\n",
       "  </tbody>\n",
       "</table>\n",
       "</div>"
      ],
      "text/plain": [
       "     rei_id      type       name short_name  enabled\n",
       "184     184  etiology  Norovirus  Norovirus        1"
      ]
     },
     "execution_count": 22,
     "metadata": {},
     "output_type": "execute_result"
    }
   ],
   "source": [
    "rei[rei['rei_id'] == 184]"
   ]
  },
  {
   "cell_type": "code",
   "execution_count": 19,
   "metadata": {},
   "outputs": [],
   "source": [
    "causes = md['cause']"
   ]
  },
  {
   "cell_type": "code",
   "execution_count": 21,
   "metadata": {},
   "outputs": [
    {
     "data": {
      "text/html": [
       "<div>\n",
       "<style scoped>\n",
       "    .dataframe tbody tr th:only-of-type {\n",
       "        vertical-align: middle;\n",
       "    }\n",
       "\n",
       "    .dataframe tbody tr th {\n",
       "        vertical-align: top;\n",
       "    }\n",
       "\n",
       "    .dataframe thead th {\n",
       "        text-align: right;\n",
       "    }\n",
       "</style>\n",
       "<table border=\"1\" class=\"dataframe\">\n",
       "  <thead>\n",
       "    <tr style=\"text-align: right;\">\n",
       "      <th></th>\n",
       "      <th>cause_id</th>\n",
       "      <th>cause</th>\n",
       "      <th>name</th>\n",
       "      <th>medium_name</th>\n",
       "      <th>short_name</th>\n",
       "    </tr>\n",
       "  </thead>\n",
       "  <tbody>\n",
       "    <tr>\n",
       "      <th>295</th>\n",
       "      <td>295</td>\n",
       "      <td>A</td>\n",
       "      <td>Communicable, maternal, neonatal, and nutritio...</td>\n",
       "      <td>Group I</td>\n",
       "      <td>Group I</td>\n",
       "    </tr>\n",
       "  </tbody>\n",
       "</table>\n",
       "</div>"
      ],
      "text/plain": [
       "     cause_id cause                                               name  \\\n",
       "295       295     A  Communicable, maternal, neonatal, and nutritio...   \n",
       "\n",
       "    medium_name short_name  \n",
       "295     Group I    Group I  "
      ]
     },
     "execution_count": 21,
     "metadata": {},
     "output_type": "execute_result"
    }
   ],
   "source": [
    "causes[causes['cause_id'] == 295]"
   ]
  },
  {
   "cell_type": "code",
   "execution_count": null,
   "metadata": {},
   "outputs": [],
   "source": []
  },
  {
   "cell_type": "code",
   "execution_count": 23,
   "metadata": {},
   "outputs": [],
   "source": [
    "# risk"
   ]
  },
  {
   "cell_type": "code",
   "execution_count": 27,
   "metadata": {},
   "outputs": [
    {
     "name": "stdout",
     "output_type": "stream",
     "text": [
      "Once deleted, variables cannot be recovered. Proceed (y/[n])? y\n"
     ]
    }
   ],
   "source": [
    "%reset"
   ]
  },
  {
   "cell_type": "code",
   "execution_count": null,
   "metadata": {},
   "outputs": [],
   "source": []
  },
  {
   "cell_type": "code",
   "execution_count": 8,
   "metadata": {},
   "outputs": [],
   "source": [
    "rsd = '../source/impairment/missing/'"
   ]
  },
  {
   "cell_type": "code",
   "execution_count": 9,
   "metadata": {},
   "outputs": [
    {
     "name": "stdout",
     "output_type": "stream",
     "text": [
      "IHME-GBD_2016_DATA-a1cf33e1-9.zip\n",
      "IHME-GBD_2016_DATA-a1cf33e1-8.zip\n",
      "IHME-GBD_2016_DATA-a1cf33e1-16.zip\n",
      "IHME-GBD_2016_DATA-a1cf33e1-17.zip\n",
      "IHME-GBD_2016_DATA-a1cf33e1-29.zip\n",
      "IHME-GBD_2016_DATA-a1cf33e1-15.zip\n",
      "IHME-GBD_2016_DATA-a1cf33e1-14.zip\n",
      "IHME-GBD_2016_DATA-a1cf33e1-28.zip\n",
      "IHME-GBD_2016_DATA-a1cf33e1-10.zip\n",
      "t.sh\n",
      "IHME-GBD_2016_DATA-a1cf33e1-11.zip\n",
      "IHME-GBD_2016_DATA-a1cf33e1-13.zip\n",
      "IHME-GBD_2016_DATA-a1cf33e1-12.zip\n",
      "IHME-GBD_2016_DATA-a1cf33e1-23.zip\n",
      "IHME-GBD_2016_DATA-a1cf33e1-22.zip\n",
      "IHME-GBD_2016_DATA-a1cf33e1-20.zip\n",
      "IHME-GBD_2016_DATA-a1cf33e1-21.zip\n",
      "IHME-GBD_2016_DATA-a1cf33e1-25.zip\n",
      "IHME-GBD_2016_DATA-a1cf33e1-19.zip\n",
      "IHME-GBD_2016_DATA-a1cf33e1-18.zip\n",
      "IHME-GBD_2016_DATA-a1cf33e1-30.zip\n",
      "IHME-GBD_2016_DATA-a1cf33e1-24.zip\n",
      "IHME-GBD_2016_DATA-a1cf33e1-26.zip\n",
      "IHME-GBD_2016_DATA-a1cf33e1-27.zip\n",
      "IHME-GBD_2016_DATA-a1cf33e1-5.zip\n",
      "IHME-GBD_2016_DATA-a1cf33e1-4.zip\n",
      "IHME-GBD_2016_DATA-a1cf33e1-6.zip\n",
      "IHME-GBD_2016_DATA-a1cf33e1-7.zip\n",
      "IHME-GBD_2016_DATA-a1cf33e1-3.zip\n",
      "IHME-GBD_2016_DATA-a1cf33e1-2.zip\n",
      "IHME-GBD_2016_DATA-a1cf33e1-1.zip\n"
     ]
    }
   ],
   "source": [
    "all_data = {}\n",
    "all_measures = []\n",
    "for n in os.listdir(rsd):\n",
    "    print(n)\n",
    "    if not n.endswith('.zip'):\n",
    "        continue\n",
    "    f = osp.join(rsd, n)\n",
    "    zf = ZipFile(f)\n",
    "    fname = osp.splitext(n)[0] + '.csv'\n",
    "    data = pd.read_csv(zf.open(fname))\n",
    "    data = data.drop(['upper', 'lower'], axis=1)\n",
    "    # data = dd.from_pandas(data, npartitions=1)\n",
    "    groups = data.groupby(by=['measure', 'metric'])\n",
    "    for g in groups.groups:\n",
    "        name  = measure[g[0]] + ' ' + metric[g[1]]\n",
    "        concept = to_concept_id(name)\n",
    "        all_measures.append([concept, name])\n",
    "        df = groups.get_group(g)\n",
    "        df = df.rename(columns={'val': concept})\n",
    "        cols = ['location', 'sex', 'age', 'cause', 'rei', 'year', concept]\n",
    "        \n",
    "        # df = dd.from_pandas(df[cols], npartitions=10)\n",
    "        df = df[cols]\n",
    "        if concept in all_data.keys():\n",
    "            all_data[concept] = all_data[concept].append(df, ignore_index=True)\n",
    "        else:\n",
    "            all_data[concept] = df\n",
    "    zf.close()\n",
    "    # break"
   ]
  },
  {
   "cell_type": "code",
   "execution_count": 10,
   "metadata": {},
   "outputs": [
    {
     "data": {
      "text/plain": [
       "dict_keys(['prevalence_number', 'prevalence_percent', 'prevalence_rate'])"
      ]
     },
     "execution_count": 10,
     "metadata": {},
     "output_type": "execute_result"
    }
   ],
   "source": [
    "all_data.keys()"
   ]
  },
  {
   "cell_type": "code",
   "execution_count": 15,
   "metadata": {},
   "outputs": [
    {
     "data": {
      "text/plain": [
       "(9162245, 7)"
      ]
     },
     "execution_count": 15,
     "metadata": {},
     "output_type": "execute_result"
    }
   ],
   "source": [
    "all_data['deaths_percent'].shape"
   ]
  },
  {
   "cell_type": "code",
   "execution_count": 11,
   "metadata": {},
   "outputs": [
    {
     "data": {
      "text/html": [
       "<div>\n",
       "<style scoped>\n",
       "    .dataframe tbody tr th:only-of-type {\n",
       "        vertical-align: middle;\n",
       "    }\n",
       "\n",
       "    .dataframe tbody tr th {\n",
       "        vertical-align: top;\n",
       "    }\n",
       "\n",
       "    .dataframe thead th {\n",
       "        text-align: right;\n",
       "    }\n",
       "</style>\n",
       "<table border=\"1\" class=\"dataframe\">\n",
       "  <thead>\n",
       "    <tr style=\"text-align: right;\">\n",
       "      <th></th>\n",
       "      <th>0</th>\n",
       "      <th>1</th>\n",
       "    </tr>\n",
       "  </thead>\n",
       "  <tbody>\n",
       "    <tr>\n",
       "      <th>0</th>\n",
       "      <td>prevalence_number</td>\n",
       "      <td>Prevalence Number</td>\n",
       "    </tr>\n",
       "    <tr>\n",
       "      <th>1</th>\n",
       "      <td>prevalence_percent</td>\n",
       "      <td>Prevalence Percent</td>\n",
       "    </tr>\n",
       "    <tr>\n",
       "      <th>2</th>\n",
       "      <td>prevalence_rate</td>\n",
       "      <td>Prevalence Rate</td>\n",
       "    </tr>\n",
       "  </tbody>\n",
       "</table>\n",
       "</div>"
      ],
      "text/plain": [
       "                    0                   1\n",
       "0   prevalence_number   Prevalence Number\n",
       "1  prevalence_percent  Prevalence Percent\n",
       "2     prevalence_rate     Prevalence Rate"
      ]
     },
     "execution_count": 11,
     "metadata": {},
     "output_type": "execute_result"
    }
   ],
   "source": [
    "pd.DataFrame(all_measures).drop_duplicates()"
   ]
  },
  {
   "cell_type": "code",
   "execution_count": 16,
   "metadata": {},
   "outputs": [
    {
     "data": {
      "text/plain": [
       "8333333.333333333"
      ]
     },
     "execution_count": 16,
     "metadata": {},
     "output_type": "execute_result"
    }
   ],
   "source": [
    "1000000 * 100 / 12"
   ]
  },
  {
   "cell_type": "code",
   "execution_count": 18,
   "metadata": {},
   "outputs": [
    {
     "data": {
      "text/plain": [
       "0.828912"
      ]
     },
     "execution_count": 18,
     "metadata": {},
     "output_type": "execute_result"
    }
   ],
   "source": [
    "(9162245 - 8333333) / 1000000"
   ]
  },
  {
   "cell_type": "code",
   "execution_count": 40,
   "metadata": {},
   "outputs": [],
   "source": [
    "# df = all_data.pop('deaths_number')\n",
    "df = all_data['ylds_number']"
   ]
  },
  {
   "cell_type": "code",
   "execution_count": 20,
   "metadata": {},
   "outputs": [],
   "source": [
    "# df.to_pickle('deaths_number.pkl')"
   ]
  },
  {
   "cell_type": "code",
   "execution_count": 23,
   "metadata": {},
   "outputs": [],
   "source": [
    "for k in list(all_data.keys()):\n",
    "    df = all_data.pop(k)\n",
    "    df.to_pickle('{}.pkl'.format(k))"
   ]
  },
  {
   "cell_type": "code",
   "execution_count": 24,
   "metadata": {},
   "outputs": [],
   "source": [
    "!open ."
   ]
  },
  {
   "cell_type": "code",
   "execution_count": 31,
   "metadata": {},
   "outputs": [],
   "source": [
    "# df = pd.read_pickle('./ylds_percent.pkl')"
   ]
  },
  {
   "cell_type": "code",
   "execution_count": 41,
   "metadata": {},
   "outputs": [
    {
     "data": {
      "text/plain": [
       "Index(['location', 'sex', 'age', 'cause', 'rei', 'year', 'ylds_number'], dtype='object')"
      ]
     },
     "execution_count": 41,
     "metadata": {},
     "output_type": "execute_result"
    }
   ],
   "source": [
    "df.columns"
   ]
  },
  {
   "cell_type": "code",
   "execution_count": 12,
   "metadata": {},
   "outputs": [],
   "source": [
    "for k, df in all_data.items():\n",
    "    g = df.groupby(by='rei')\n",
    "    for r in g.groups:\n",
    "        df_ = g.get_group(r)\n",
    "        by = ['location', 'sex', 'age', 'cause', f'rei-{r}', 'year']\n",
    "        filename = f'ddf--datapoints--{k}--by--' + '--'.join(by) + '.csv'\n",
    "        path = osp.join('../../', 'impairment', filename)\n",
    "        df_.to_csv(path, index=False)"
   ]
  },
  {
   "cell_type": "code",
   "execution_count": null,
   "metadata": {},
   "outputs": [],
   "source": []
  },
  {
   "cell_type": "code",
   "execution_count": 28,
   "metadata": {},
   "outputs": [],
   "source": [
    "rei = md['rei']"
   ]
  },
  {
   "cell_type": "code",
   "execution_count": 43,
   "metadata": {},
   "outputs": [
    {
     "data": {
      "text/html": [
       "<div>\n",
       "<style scoped>\n",
       "    .dataframe tbody tr th:only-of-type {\n",
       "        vertical-align: middle;\n",
       "    }\n",
       "\n",
       "    .dataframe tbody tr th {\n",
       "        vertical-align: top;\n",
       "    }\n",
       "\n",
       "    .dataframe thead th {\n",
       "        text-align: right;\n",
       "    }\n",
       "</style>\n",
       "<table border=\"1\" class=\"dataframe\">\n",
       "  <thead>\n",
       "    <tr style=\"text-align: right;\">\n",
       "      <th></th>\n",
       "      <th>rei_id</th>\n",
       "      <th>type</th>\n",
       "      <th>name</th>\n",
       "      <th>short_name</th>\n",
       "      <th>enabled</th>\n",
       "    </tr>\n",
       "  </thead>\n",
       "  <tbody>\n",
       "    <tr>\n",
       "      <th>219</th>\n",
       "      <td>219</td>\n",
       "      <td>impairment</td>\n",
       "      <td>Severe heart failure</td>\n",
       "      <td>Severe heart failure</td>\n",
       "      <td>1</td>\n",
       "    </tr>\n",
       "  </tbody>\n",
       "</table>\n",
       "</div>"
      ],
      "text/plain": [
       "     rei_id        type                  name            short_name  enabled\n",
       "219     219  impairment  Severe heart failure  Severe heart failure        1"
      ]
     },
     "execution_count": 43,
     "metadata": {},
     "output_type": "execute_result"
    }
   ],
   "source": [
    "rei[rei.rei_id == 219]"
   ]
  },
  {
   "cell_type": "code",
   "execution_count": 45,
   "metadata": {},
   "outputs": [
    {
     "data": {
      "text/plain": [
       "array(['risk', 'etiology', 'impairment', 'injury n-codes'], dtype=object)"
      ]
     },
     "execution_count": 45,
     "metadata": {},
     "output_type": "execute_result"
    }
   ],
   "source": [
    "rei.type.unique()"
   ]
  },
  {
   "cell_type": "code",
   "execution_count": 62,
   "metadata": {},
   "outputs": [],
   "source": [
    "rei_ent = rei[rei['type'] != 'injury n-codes']"
   ]
  },
  {
   "cell_type": "code",
   "execution_count": 63,
   "metadata": {},
   "outputs": [
    {
     "data": {
      "text/html": [
       "<div>\n",
       "<style scoped>\n",
       "    .dataframe tbody tr th:only-of-type {\n",
       "        vertical-align: middle;\n",
       "    }\n",
       "\n",
       "    .dataframe tbody tr th {\n",
       "        vertical-align: top;\n",
       "    }\n",
       "\n",
       "    .dataframe thead th {\n",
       "        text-align: right;\n",
       "    }\n",
       "</style>\n",
       "<table border=\"1\" class=\"dataframe\">\n",
       "  <thead>\n",
       "    <tr style=\"text-align: right;\">\n",
       "      <th></th>\n",
       "      <th>rei_id</th>\n",
       "      <th>type</th>\n",
       "      <th>name</th>\n",
       "      <th>short_name</th>\n",
       "      <th>enabled</th>\n",
       "    </tr>\n",
       "  </thead>\n",
       "  <tbody>\n",
       "    <tr>\n",
       "      <th>100</th>\n",
       "      <td>100</td>\n",
       "      <td>risk</td>\n",
       "      <td>Secondhand smoke</td>\n",
       "      <td>Secondhand smoke</td>\n",
       "      <td>1</td>\n",
       "    </tr>\n",
       "    <tr>\n",
       "      <th>101</th>\n",
       "      <td>101</td>\n",
       "      <td>risk</td>\n",
       "      <td>Alcohol and drug use</td>\n",
       "      <td>Alcohol &amp; drug use</td>\n",
       "      <td>0</td>\n",
       "    </tr>\n",
       "    <tr>\n",
       "      <th>102</th>\n",
       "      <td>102</td>\n",
       "      <td>risk</td>\n",
       "      <td>Alcohol use</td>\n",
       "      <td>Alcohol use</td>\n",
       "      <td>1</td>\n",
       "    </tr>\n",
       "    <tr>\n",
       "      <th>103</th>\n",
       "      <td>103</td>\n",
       "      <td>risk</td>\n",
       "      <td>Drug use</td>\n",
       "      <td>Drug use</td>\n",
       "      <td>1</td>\n",
       "    </tr>\n",
       "    <tr>\n",
       "      <th>104</th>\n",
       "      <td>104</td>\n",
       "      <td>risk</td>\n",
       "      <td>Metabolic risks</td>\n",
       "      <td>Metabolic</td>\n",
       "      <td>0</td>\n",
       "    </tr>\n",
       "  </tbody>\n",
       "</table>\n",
       "</div>"
      ],
      "text/plain": [
       "     rei_id  type                  name          short_name  enabled\n",
       "100     100  risk      Secondhand smoke    Secondhand smoke        1\n",
       "101     101  risk  Alcohol and drug use  Alcohol & drug use        0\n",
       "102     102  risk           Alcohol use         Alcohol use        1\n",
       "103     103  risk              Drug use            Drug use        1\n",
       "104     104  risk       Metabolic risks           Metabolic        0"
      ]
     },
     "execution_count": 63,
     "metadata": {},
     "output_type": "execute_result"
    }
   ],
   "source": [
    "rei_ent.head()"
   ]
  },
  {
   "cell_type": "code",
   "execution_count": 65,
   "metadata": {},
   "outputs": [],
   "source": [
    "rei_ent = rei_ent[['rei_id', 'type', 'name', 'short_name']]\n",
    "rei_ent.columns = ['rei', 'type', 'name', 'short_name']"
   ]
  },
  {
   "cell_type": "code",
   "execution_count": 66,
   "metadata": {},
   "outputs": [],
   "source": [
    "rei_ent.to_csv('../../ddf--entities--rei.csv', index=False)"
   ]
  },
  {
   "cell_type": "code",
   "execution_count": null,
   "metadata": {},
   "outputs": [],
   "source": []
  }
 ],
 "metadata": {
  "kernelspec": {
   "display_name": "Python 3",
   "language": "python",
   "name": "python3"
  },
  "language_info": {
   "codemirror_mode": {
    "name": "ipython",
    "version": 3
   },
   "file_extension": ".py",
   "mimetype": "text/x-python",
   "name": "python",
   "nbconvert_exporter": "python",
   "pygments_lexer": "ipython3",
   "version": "3.6.5"
  }
 },
 "nbformat": 4,
 "nbformat_minor": 2
}
